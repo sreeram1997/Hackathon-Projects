{
 "cells": [
  {
   "cell_type": "code",
   "execution_count": 1,
   "metadata": {},
   "outputs": [],
   "source": [
    "from sklearn.linear_model import LogisticRegression\n",
    "from sklearn.linear_model import LinearRegression,Lasso\n",
    "from sklearn.svm import SVC, LinearSVC\n",
    "from sklearn.ensemble import RandomForestRegressor , GradientBoostingRegressor,AdaBoostRegressor,ExtraTreesRegressor,VotingRegressor,BaggingRegressor\n",
    "from catboost import CatBoostRegressor\n",
    "import warnings\n",
    "warnings.filterwarnings('ignore')\n",
    "from sklearn.naive_bayes import GaussianNB\n",
    "from sklearn.linear_model import Perceptron\n",
    "\n",
    "from sklearn.tree import DecisionTreeRegressor\n",
    "from sklearn.pipeline import Pipeline\n",
    "from sklearn.preprocessing import StandardScaler,MinMaxScaler\n",
    "#import sweetviz\n",
    "from sklearn.preprocessing import LabelEncoder, OneHotEncoder, OrdinalEncoder\n",
    "import pandas as pd\n",
    "import numpy as np\n",
    "from matplotlib import pyplot as plt\n",
    "import seaborn as sns\n",
    "from sklearn.model_selection import RepeatedStratifiedKFold\n",
    "from sklearn.model_selection  import train_test_split, KFold,cross_val_score,GridSearchCV\n",
    "from sklearn.metrics import accuracy_score, classification_report, roc_curve, roc_auc_score\n",
    "from xgboost import XGBRegressor\n",
    "from sklearn.model_selection import RandomizedSearchCV\n",
    "from sklearn.metrics import fbeta_score, make_scorer,mean_squared_error,mean_squared_log_error\n",
    "from sklearn.metrics import mean_squared_error, make_scorer, r2_score\n",
    "from sklearn.impute import SimpleImputer,KNNImputer\n",
    "from sklearn.ensemble import GradientBoostingRegressor\n",
    "from sklearn.neighbors import KNeighborsRegressor\n",
    "from lightgbm import LGBMRegressor\n",
    "from sklearn.linear_model import ElasticNet\n",
    "from sklearn.ensemble import StackingRegressor\n",
    "from catboost import CatBoostRegressor\n",
    "from sklearn.linear_model import Ridge\n",
    "#from lazypredict.Supervised import LazyRegressor"
   ]
  },
  {
   "cell_type": "code",
   "execution_count": 5,
   "metadata": {},
   "outputs": [],
   "source": [
    "train=pd.read_csv(r'D:\\Downloads\\Machine Hack Projects\\Workation Price Predictions\\Train.csv')"
   ]
  },
  {
   "cell_type": "code",
   "execution_count": 6,
   "metadata": {},
   "outputs": [],
   "source": [
    "test=pd.read_csv(r'D:\\Downloads\\Machine Hack Projects\\Workation Price Predictions\\Test.csv')"
   ]
  },
  {
   "cell_type": "code",
   "execution_count": 7,
   "metadata": {},
   "outputs": [
    {
     "name": "stdout",
     "output_type": "stream",
     "text": [
      " Total Unique Values are 21000 in Uniq Id\n",
      " Total Unique Values are 2204 in Package Name\n",
      " Total Unique Values are 5 in Package Type\n",
      " Total Unique Values are 565 in Destination\n",
      " Total Unique Values are 966 in Itinerary\n",
      " Total Unique Values are 565 in Places Covered\n",
      " Total Unique Values are 495 in Travel Date\n",
      " Total Unique Values are 6060 in Hotel Details\n",
      " Total Unique Values are 2 in Start City\n",
      " Total Unique Values are 314 in Airline\n",
      " Total Unique Values are 3 in Flight Stops\n",
      " Total Unique Values are 4 in Meals\n",
      " Total Unique Values are 1714 in Sightseeing Places Covered\n",
      " Total Unique Values are 10 in Cancellation Rules\n",
      " Total Unique Values are 17138 in Per Person Price\n"
     ]
    }
   ],
   "source": [
    "for col in train.columns:\n",
    "    print(f' Total Unique Values are {len(train[col].unique())} in {col}')"
   ]
  },
  {
   "cell_type": "code",
   "execution_count": 8,
   "metadata": {
    "scrolled": true
   },
   "outputs": [
    {
     "name": "stdout",
     "output_type": "stream",
     "text": [
      " Total Unique Values are 9000 in Uniq Id\n",
      " Total Unique Values are 2065 in Package Name\n",
      " Total Unique Values are 5 in Package Type\n",
      " Total Unique Values are 551 in Destination\n",
      " Total Unique Values are 941 in Itinerary\n",
      " Total Unique Values are 552 in Places Covered\n",
      " Total Unique Values are 460 in Travel Date\n",
      " Total Unique Values are 3693 in Hotel Details\n",
      " Total Unique Values are 2 in Start City\n",
      " Total Unique Values are 216 in Airline\n",
      " Total Unique Values are 3 in Flight Stops\n",
      " Total Unique Values are 4 in Meals\n",
      " Total Unique Values are 1476 in Sightseeing Places Covered\n",
      " Total Unique Values are 7 in Cancellation Rules\n"
     ]
    }
   ],
   "source": [
    "for col in test.columns:\n",
    "    print(f' Total Unique Values are {len(test[col].unique())} in {col}')"
   ]
  },
  {
   "cell_type": "code",
   "execution_count": 9,
   "metadata": {},
   "outputs": [
    {
     "data": {
      "image/png": "[encoded data removed]",
      "text/plain": [
       "<Figure size 432x288 with 1 Axes>"
      ]
     },
     "metadata": {
      "needs_background": "light"
     },
     "output_type": "display_data"
    }
   ],
   "source": [
    "%matplotlib inline\n",
    "sns.kdeplot(data=train['Per Person Price'].astype(int),shade=True)\n",
    "plt.title('Price Distribution')\n",
    "plt.show()"
   ]
  },
  {
   "cell_type": "code",
   "execution_count": 10,
   "metadata": {},
   "outputs": [
    {
     "data": {
      "image/png": "[encoded data removed]",
      "text/plain": [
       "<Figure size 432x288 with 1 Axes>"
      ]
     },
     "metadata": {
      "needs_background": "light"
     },
     "output_type": "display_data"
    }
   ],
   "source": [
    "%matplotlib inline\n",
    "sns.kdeplot(data=np.log1p(train['Per Person Price']),shade=True)\n",
    "plt.title('Price Distribution')\n",
    "plt.show()"
   ]
  },
  {
   "cell_type": "code",
   "execution_count": 11,
   "metadata": {},
   "outputs": [],
   "source": [
    "df2=train.copy()"
   ]
  },
  {
   "cell_type": "code",
   "execution_count": 12,
   "metadata": {},
   "outputs": [],
   "source": [
    "# 'Places Covered' was similar to 'Destination' hence removed and 'Uniq Id'  was completely unique for all rows therefore did not make sense to be used\n",
    "df2.drop(['Places Covered', 'Uniq Id','Travel Date'], axis=1, inplace=True)\n",
    " \n",
    "test.drop(['Places Covered', 'Uniq Id','Travel Date'], axis=1, inplace=True)"
   ]
  },
  {
   "cell_type": "code",
   "execution_count": 13,
   "metadata": {},
   "outputs": [],
   "source": [
    "df2['Total Destinations Covered']=df2['Destination'].apply(lambda x: len(x.split('|')))\n",
    "test['Total Destinations Covered'] = test['Destination'].apply(lambda x: len(x.split('|')))"
   ]
  },
  {
   "cell_type": "code",
   "execution_count": 14,
   "metadata": {
    "scrolled": true
   },
   "outputs": [
    {
     "data": {
      "text/html": [
       "<div>\n",
       "<style scoped>\n",
       "    .dataframe tbody tr th:only-of-type {\n",
       "        vertical-align: middle;\n",
       "    }\n",
       "\n",
       "    .dataframe tbody tr th {\n",
       "        vertical-align: top;\n",
       "    }\n",
       "\n",
       "    .dataframe thead th {\n",
       "        text-align: right;\n",
       "    }\n",
       "</style>\n",
       "<table border=\"1\" class=\"dataframe\">\n",
       "  <thead>\n",
       "    <tr style=\"text-align: right;\">\n",
       "      <th></th>\n",
       "      <th>Package Name</th>\n",
       "      <th>Package Type</th>\n",
       "      <th>Destination</th>\n",
       "      <th>Itinerary</th>\n",
       "      <th>Hotel Details</th>\n",
       "      <th>Start City</th>\n",
       "      <th>Airline</th>\n",
       "      <th>Flight Stops</th>\n",
       "      <th>Meals</th>\n",
       "      <th>Sightseeing Places Covered</th>\n",
       "      <th>Cancellation Rules</th>\n",
       "      <th>Per Person Price</th>\n",
       "      <th>Total Destinations Covered</th>\n",
       "    </tr>\n",
       "  </thead>\n",
       "  <tbody>\n",
       "    <tr>\n",
       "      <th>0</th>\n",
       "      <td>Best of Shimla and Manali Holiday from Delhi</td>\n",
       "      <td>Standard</td>\n",
       "      <td>New Delhi|Shimla|Manali|Chandigarh</td>\n",
       "      <td>1N New Delhi . 2N Shimla . 2N Manali . 1N Chan...</td>\n",
       "      <td>Not Available</td>\n",
       "      <td>Mumbai</td>\n",
       "      <td>Not Available</td>\n",
       "      <td>2</td>\n",
       "      <td>3</td>\n",
       "      <td>Not Available</td>\n",
       "      <td>Not Available</td>\n",
       "      <td>11509.0</td>\n",
       "      <td>4</td>\n",
       "    </tr>\n",
       "    <tr>\n",
       "      <th>1</th>\n",
       "      <td>Kashmir Valley vacation</td>\n",
       "      <td>Premium</td>\n",
       "      <td>Srinagar|Pahalgam|Srinagar</td>\n",
       "      <td>1N Srinagar . 2N Pahalgam . 1N Srinagar</td>\n",
       "      <td>The Orchard Retreat &amp; Spa:4.6|WelcomHotel Pine...</td>\n",
       "      <td>New Delhi</td>\n",
       "      <td>IndiGo|IndiGo</td>\n",
       "      <td>0</td>\n",
       "      <td>5</td>\n",
       "      <td>Dal Lake | Avantipura Ruins | Mughal Gardens ...</td>\n",
       "      <td>Cancellation any time after making the 1st pay...</td>\n",
       "      <td>22485.5</td>\n",
       "      <td>3</td>\n",
       "    </tr>\n",
       "    <tr>\n",
       "      <th>2</th>\n",
       "      <td>Might of Mewar- Udaipur and Chittorgarh</td>\n",
       "      <td>Luxury</td>\n",
       "      <td>Udaipur|Chittorgarh</td>\n",
       "      <td>2N Udaipur . 1N Chittorgarh</td>\n",
       "      <td>The Ananta:4.4|juSTa Lake Nahargarh Palace:4</td>\n",
       "      <td>New Delhi</td>\n",
       "      <td>IndiGo</td>\n",
       "      <td>0</td>\n",
       "      <td>4</td>\n",
       "      <td>Lake Pichola | Jag Mandir Palace | Saheliyon ...</td>\n",
       "      <td>Cancellation any time after making the 1st pay...</td>\n",
       "      <td>12421.5</td>\n",
       "      <td>2</td>\n",
       "    </tr>\n",
       "    <tr>\n",
       "      <th>3</th>\n",
       "      <td>Colorful Kerala ( Romantic Getaway )</td>\n",
       "      <td>Premium</td>\n",
       "      <td>Munnar|Kumarakom|Allepey|Kovalam and Poovar</td>\n",
       "      <td>2N Munnar . 1N Kumarakom . 1N Allepey . 2N Kov...</td>\n",
       "      <td>Elixir Hills Suites Resort &amp; Spa-MMT Holidays ...</td>\n",
       "      <td>New Delhi</td>\n",
       "      <td>IndiGo</td>\n",
       "      <td>0</td>\n",
       "      <td>5</td>\n",
       "      <td>Mattupetty Dam | Echo Point | Tata Tea Museum...</td>\n",
       "      <td>Cancellation any time after making the 1st pay...</td>\n",
       "      <td>35967.0</td>\n",
       "      <td>4</td>\n",
       "    </tr>\n",
       "    <tr>\n",
       "      <th>4</th>\n",
       "      <td>A Week In Bangkok &amp; Pattaya</td>\n",
       "      <td>Premium</td>\n",
       "      <td>Pattaya|Bangkok</td>\n",
       "      <td>4N Pattaya . 3N Bangkok</td>\n",
       "      <td>Dusit Thani Pattaya - MMT Special:4.5|Amari Wa...</td>\n",
       "      <td>New Delhi</td>\n",
       "      <td>Spicejet|Go Air</td>\n",
       "      <td>0</td>\n",
       "      <td>5</td>\n",
       "      <td>Coral Island Tour with Indian Lunch, Join Spe...</td>\n",
       "      <td>Cancellation any time after making the 1st pay...</td>\n",
       "      <td>25584.0</td>\n",
       "      <td>2</td>\n",
       "    </tr>\n",
       "  </tbody>\n",
       "</table>\n",
       "</div>"
      ],
      "text/plain": [
       "                                   Package Name Package Type  \\\n",
       "0  Best of Shimla and Manali Holiday from Delhi     Standard   \n",
       "1                       Kashmir Valley vacation      Premium   \n",
       "2       Might of Mewar- Udaipur and Chittorgarh       Luxury   \n",
       "3          Colorful Kerala ( Romantic Getaway )      Premium   \n",
       "4                   A Week In Bangkok & Pattaya      Premium   \n",
       "\n",
       "                                   Destination  \\\n",
       "0           New Delhi|Shimla|Manali|Chandigarh   \n",
       "1                   Srinagar|Pahalgam|Srinagar   \n",
       "2                          Udaipur|Chittorgarh   \n",
       "3  Munnar|Kumarakom|Allepey|Kovalam and Poovar   \n",
       "4                              Pattaya|Bangkok   \n",
       "\n",
       "                                           Itinerary  \\\n",
       "0  1N New Delhi . 2N Shimla . 2N Manali . 1N Chan...   \n",
       "1            1N Srinagar . 2N Pahalgam . 1N Srinagar   \n",
       "2                        2N Udaipur . 1N Chittorgarh   \n",
       "3  2N Munnar . 1N Kumarakom . 1N Allepey . 2N Kov...   \n",
       "4                            4N Pattaya . 3N Bangkok   \n",
       "\n",
       "                                       Hotel Details Start City  \\\n",
       "0                                      Not Available     Mumbai   \n",
       "1  The Orchard Retreat & Spa:4.6|WelcomHotel Pine...  New Delhi   \n",
       "2       The Ananta:4.4|juSTa Lake Nahargarh Palace:4  New Delhi   \n",
       "3  Elixir Hills Suites Resort & Spa-MMT Holidays ...  New Delhi   \n",
       "4  Dusit Thani Pattaya - MMT Special:4.5|Amari Wa...  New Delhi   \n",
       "\n",
       "           Airline  Flight Stops  Meals  \\\n",
       "0    Not Available             2      3   \n",
       "1    IndiGo|IndiGo             0      5   \n",
       "2           IndiGo             0      4   \n",
       "3           IndiGo             0      5   \n",
       "4  Spicejet|Go Air             0      5   \n",
       "\n",
       "                          Sightseeing Places Covered  \\\n",
       "0                                      Not Available   \n",
       "1   Dal Lake | Avantipura Ruins | Mughal Gardens ...   \n",
       "2   Lake Pichola | Jag Mandir Palace | Saheliyon ...   \n",
       "3   Mattupetty Dam | Echo Point | Tata Tea Museum...   \n",
       "4   Coral Island Tour with Indian Lunch, Join Spe...   \n",
       "\n",
       "                                  Cancellation Rules  Per Person Price  \\\n",
       "0                                      Not Available           11509.0   \n",
       "1  Cancellation any time after making the 1st pay...           22485.5   \n",
       "2  Cancellation any time after making the 1st pay...           12421.5   \n",
       "3  Cancellation any time after making the 1st pay...           35967.0   \n",
       "4  Cancellation any time after making the 1st pay...           25584.0   \n",
       "\n",
       "   Total Destinations Covered  \n",
       "0                           4  \n",
       "1                           3  \n",
       "2                           2  \n",
       "3                           4  \n",
       "4                           2  "
      ]
     },
     "execution_count": 14,
     "metadata": {},
     "output_type": "execute_result"
    }
   ],
   "source": [
    "df2.head()"
   ]
  },
  {
   "cell_type": "code",
   "execution_count": 15,
   "metadata": {},
   "outputs": [
    {
     "data": {
      "text/plain": [
       "0                                        Not Available\n",
       "1     Dal Lake | Avantipura Ruins | Mughal Gardens ...\n",
       "2     Lake Pichola | Jag Mandir Palace | Saheliyon ...\n",
       "3     Mattupetty Dam | Echo Point | Tata Tea Museum...\n",
       "4     Coral Island Tour with Indian Lunch, Join Spe...\n",
       "Name: Sightseeing Places Covered, dtype: object"
      ]
     },
     "execution_count": 15,
     "metadata": {},
     "output_type": "execute_result"
    }
   ],
   "source": [
    "df2['Sightseeing Places Covered'].head()"
   ]
  },
  {
   "cell_type": "code",
   "execution_count": 16,
   "metadata": {},
   "outputs": [],
   "source": [
    "df2['Total Sightseeing Places Covered'] = df2['Sightseeing Places Covered'].apply(lambda x: len(x.split('|')) if x != 'Not Available' else -1)\n",
    "\n",
    "test['Total Sightseeing Places Covered'] = test['Sightseeing Places Covered'].apply(lambda x: len(x.split('|')) if x != 'Not Available' else -1)"
   ]
  },
  {
   "cell_type": "code",
   "execution_count": 17,
   "metadata": {},
   "outputs": [],
   "source": [
    "# Feature having total no. of days in respective trips\n",
    "import re\n",
    "df2['Total days'] = df2['Itinerary'].apply(lambda x: sum(int(i) for i in (re.findall(r'[0-9]', x))))\n",
    "\n",
    "test['Total days'] = test['Itinerary'].apply(lambda x: sum(int(i) for i in (re.findall(r'[0-9]', x))))"
   ]
  },
  {
   "cell_type": "code",
   "execution_count": 18,
   "metadata": {},
   "outputs": [],
   "source": [
    "df2['Hotel Details'] = df2['Hotel Details'].apply(lambda x:  x.replace('Four', '4'))\n",
    "df2['Hotel Details'] = df2['Hotel Details'].apply(lambda x:  x.replace('One', '1'))\n",
    "df2['Hotel Details'] = df2['Hotel Details'].apply(lambda x:  x.replace('Two', '2'))\n",
    "df2['Hotel Details'] = df2['Hotel Details'].apply(lambda x:  x.replace('Three', '3'))\n",
    "df2['Hotel Details'] = df2['Hotel Details'].apply(lambda x:  x.replace('Five', '5'))\n",
    "\n",
    "test['Hotel Details'] = test['Hotel Details'].apply(lambda x:  x.replace('Four', '4'))\n",
    "test['Hotel Details'] = test['Hotel Details'].apply(lambda x:  x.replace('One', '1'))\n",
    "test['Hotel Details'] = test['Hotel Details'].apply(lambda x:  x.replace('Two', '2'))\n",
    "test['Hotel Details'] = test['Hotel Details'].apply(lambda x:  x.replace('Three', '3'))\n",
    "test['Hotel Details'] = test['Hotel Details'].apply(lambda x:  x.replace('Five', '5'))"
   ]
  },
  {
   "cell_type": "code",
   "execution_count": 19,
   "metadata": {},
   "outputs": [],
   "source": [
    "df2['Avg Rating'] = df2['Hotel Details'].apply(lambda x: sum(float(i.replace(':', '')) for i in (re.findall(r'[:][0-9]*[.]?[0-9]+', x))) / len(re.findall(r'[:][0-9]*[.]?[0-9]+', x)) if len(re.findall(r'[:][0-9]*[.]?[0-9]+', x)) != 0 else -1)\n",
    "\n",
    "test['Avg Rating'] = test['Hotel Details'].apply(lambda x: sum(float(i.replace(':', '')) for i in (re.findall(r'[:][0-9]*[.]?[0-9]+', x))) / len(re.findall(r'[:][0-9]*[.]?[0-9]+', x)) if len(re.findall(r'[:][0-9]*[.]?[0-9]+', x)) != 0 else -1)"
   ]
  },
  {
   "cell_type": "raw",
   "metadata": {
    "scrolled": false
   },
   "source": [
    "#from sklearn.preprocessing import OrdinalEncoder\n",
    "oe=OrdinalEncoder(handle_unknown='use_encoded_value',unknown_value=-999)"
   ]
  },
  {
   "cell_type": "code",
   "execution_count": 20,
   "metadata": {
    "scrolled": true
   },
   "outputs": [],
   "source": [
    "from sklearn.preprocessing import OrdinalEncoder\n",
    "\n",
    "oe = OrdinalEncoder(handle_unknown='use_encoded_value',unknown_value=-999)\n",
    "\n",
    "\n",
    "# Encoding function for few catgeorical features\n",
    "def ordinal_enc(df, col, testing=False):\n",
    "    if testing == False:\n",
    "        df[col] = oe.fit_transform(df[col])\n",
    "        \n",
    "    else:\n",
    "        df[col] = oe.transform(df[col])\n",
    "    return df"
   ]
  },
  {
   "cell_type": "code",
   "execution_count": 21,
   "metadata": {},
   "outputs": [],
   "source": [
    "cat_feature = ['Start City', 'Package Type', 'Cancellation Rules', 'Destination']\n",
    "\n",
    "# Ordinal Encoding 'cat_feature' columns \n",
    "df2 = ordinal_enc(df2, cat_feature)\n",
    "test = ordinal_enc(test, cat_feature, testing=True)"
   ]
  },
  {
   "cell_type": "code",
   "execution_count": 22,
   "metadata": {},
   "outputs": [],
   "source": [
    "df2['Sightseeing per days'] = df2['Total Sightseeing Places Covered'] / (df2['Total days']) \n",
    "\n",
    "# Ratio feature of 'Total Destinations Covered' and 'Total days'\n",
    "df2['total destination per days'] = df2['Total Destinations Covered'] / (df2['Total days'])\n",
    "\n",
    "\n",
    "test['Sightseeing per days'] = test['Total Sightseeing Places Covered'] / test['Total days']\n",
    "test['total destination per days'] = test['Total Destinations Covered'] / test['Total days']"
   ]
  },
  {
   "cell_type": "code",
   "execution_count": 23,
   "metadata": {},
   "outputs": [],
   "source": [
    "from sklearn.feature_extraction.text import CountVectorizer\n",
    "\n",
    "# Extracting features from text columns using CountVectorizer\n",
    "def CountVect(column, train, test):\n",
    "    vect = CountVectorizer()\n",
    "    \n",
    "    train_feature = vect.fit_transform(train[column])\n",
    "    train_feature = pd.DataFrame(train_feature.todense(), columns=[(column+str(i)) for i in range(len(vect.get_feature_names()))])\n",
    "    train = pd.concat([train, train_feature], axis=1)\n",
    "    \n",
    "    test_feature = vect.transform(test[column])\n",
    "    test_feature = pd.DataFrame(test_feature.todense(), columns=[(column+str(i)) for i in range(len(vect.get_feature_names()))])\n",
    "    test = pd.concat([test, test_feature], axis=1)\n",
    "    \n",
    "    yield train, test"
   ]
  },
  {
   "cell_type": "code",
   "execution_count": 24,
   "metadata": {},
   "outputs": [],
   "source": [
    "for column in ['Sightseeing Places Covered', 'Hotel Details', 'Package Name', 'Itinerary', 'Airline']:\n",
    "    df2, test = next(CountVect(column, df2, test))"
   ]
  },
  {
   "cell_type": "code",
   "execution_count": 25,
   "metadata": {},
   "outputs": [],
   "source": [
    "df2.drop(['Sightseeing Places Covered', 'Hotel Details', 'Package Name', 'Itinerary', 'Airline'], axis=1, inplace=True)\n",
    "\n",
    "test.drop(['Sightseeing Places Covered', 'Hotel Details', 'Package Name', 'Itinerary', 'Airline'], axis=1, inplace=True)"
   ]
  },
  {
   "cell_type": "code",
   "execution_count": null,
   "metadata": {
    "scrolled": true
   },
   "outputs": [],
   "source": [
    "df2.head()"
   ]
  },
  {
   "cell_type": "markdown",
   "metadata": {},
   "source": [
    "# MODEL SELECTION"
   ]
  },
  {
   "cell_type": "code",
   "execution_count": 26,
   "metadata": {},
   "outputs": [],
   "source": [
    "from sklearn.model_selection import KFold\n",
    "from sklearn.ensemble import RandomForestRegressor\n",
    "from sklearn.metrics import mean_squared_log_error\n",
    "from sklearn.linear_model import LinearRegression\n",
    "from sklearn.ensemble import ExtraTreesRegressor\n",
    "from sklearn.ensemble import GradientBoostingRegressor\n",
    "from catboost import CatBoostRegressor\n",
    "from sklearn.linear_model import LassoCV, ElasticNet\n",
    "from sklearn.linear_model import RidgeCV\n",
    "from sklearn.tree import DecisionTreeRegressor\n",
    "#from category_encoders import MEstimateEncoder\n",
    "from sklearn.ensemble import StackingRegressor\n",
    "from sklearn.ensemble import VotingRegressor\n",
    "from sklearn.neighbors import KNeighborsRegressor\n",
    "from sklearn.preprocessing import OrdinalEncoder\n",
    "from sklearn.svm import SVR\n",
    "import lightgbm as lgb\n",
    "import xgboost as xgb"
   ]
  },
  {
   "cell_type": "code",
   "execution_count": 27,
   "metadata": {},
   "outputs": [],
   "source": [
    "X, y = df2.drop('Per Person Price', axis=1), df2['Per Person Price']"
   ]
  },
  {
   "cell_type": "code",
   "execution_count": 28,
   "metadata": {
    "scrolled": true
   },
   "outputs": [
    {
     "name": "stdout",
     "output_type": "stream",
     "text": [
      "Train set: (16800, 4312) (16800,)\n",
      "Test set: (4200, 4312) (4200,)\n"
     ]
    }
   ],
   "source": [
    "X_train,X_test,Y_train,Y_test=train_test_split(X,np.log1p(y),test_size=0.2,random_state=4)\n",
    "print ('Train set:', X_train.shape,  Y_train.shape)\n",
    "print ('Test set:', X_test.shape,  Y_test.shape)"
   ]
  },
  {
   "cell_type": "code",
   "execution_count": null,
   "metadata": {},
   "outputs": [],
   "source": [
    "X.isnull().sum()"
   ]
  },
  {
   "cell_type": "markdown",
   "metadata": {},
   "source": [
    "# MODEL VALIDATION"
   ]
  },
  {
   "cell_type": "code",
   "execution_count": 44,
   "metadata": {
    "scrolled": true
   },
   "outputs": [
    {
     "name": "stdout",
     "output_type": "stream",
     "text": [
      "RMSLE score for fold 1 is 0.16361896764135905\n",
      "RMSLE score for fold 2 is 0.15985304855708685\n",
      "RMSLE score for fold 3 is 0.1530641640991627\n",
      "RMSLE score for fold 4 is 0.15447275202627564\n",
      "RMSLE score for fold 5 is 0.1588621395476554\n",
      "RMSLE score for fold 6 is 0.16232986372493988\n",
      "RMSLE score for fold 7 is 0.153134301980688\n",
      "RMSLE score for fold 8 is 0.15947458245377316\n",
      "RMSLE score for fold 9 is 0.1625847158469199\n",
      "RMSLE score for fold 10 is 0.1536458085857931\n",
      "Mean RMSLE score is 0.15810403444636534\n",
      "Wall time: 1min 59s\n"
     ]
    }
   ],
   "source": [
    "%%time\n",
    "# K-Fold Cross Validation \n",
    "kf = KFold(n_splits=10, shuffle=True)\n",
    "scores = []\n",
    "for fold, (train_index, test_index) in enumerate(kf.split(X, y), 1):\n",
    "    X_train = X.iloc[train_index]\n",
    "    X_train = ordinal_enc(X_train, cat_feature)\n",
    "    \n",
    "    y_train = np.log1p(y.iloc[train_index])\n",
    "    \n",
    "    X_test = X.iloc[test_index]\n",
    "    X_test = ordinal_enc(X_test, cat_feature, testing=True)\n",
    "\n",
    "    y_test = y.iloc[test_index]\n",
    "    \n",
    "    #model = GradientBoostingRegressor(n_estimators=1000, learning_rate=0.03)\n",
    "    #model = RandomForestRegressor(n_estimators=200, n_jobs=-1)\n",
    "    #model = ElasticNet()\n",
    "    model = lgb.LGBMRegressor(n_estimators=2500, max_depth=11, learning_rate=0.05, num_leaves=40)\n",
    "    #model = xgb.XGBRegressor(n_estimators=590, objective='reg:squarederror', max_depth=7, learning_rate=0.06, min_child_weight=1.2)\n",
    "    #model = get_stacking()\n",
    "    #model = ExtraTreesRegressor(n_estimators=500, bootstrap=True, n_jobs=-1)\n",
    "    #model = LinearRegression()\n",
    "    #model = KNeighborsRegressor(weights='distance', n_neighbors=15)\n",
    "    #model = CatBoostRegressor(silent=True,learning_rate=0.18, n_estimators=1700, depth=6)\n",
    "    model.fit(X_train, y_train)\n",
    "    \n",
    "    pred = model.predict(X_test)\n",
    " \n",
    "    score = np.sqrt(mean_squared_log_error(y_test, np.expm1((pred))))\n",
    "    print(f'RMSLE score for fold {fold} is {score}')\n",
    "    scores.append(score)\n",
    "\n",
    "print(f'Mean RMSLE score is {np.mean(scores)}')"
   ]
  },
  {
   "cell_type": "code",
   "execution_count": 30,
   "metadata": {},
   "outputs": [],
   "source": [
    "# Stacking regressor function to ensemble LGBM and CatBoost\n",
    "def get_stacking():\n",
    "    level0 = [('lgbm_regressor', lgb.LGBMRegressor(n_estimators=3000, max_depth=11, learning_rate=0.06, num_leaves=40)),\n",
    "               #('XGB_regressor', xgb.XGBRegressor(n_estimators=700, objective='reg:squarederror', max_depth=7, learning_rate=0.06, colsample_bytree=0.9, subsample=0.8)),\n",
    "               ('catboost', CatBoostRegressor(silent=True,learning_rate=0.18, n_estimators=2000, depth=6))]\n",
    "    \n",
    "    level1 =  LinearRegression()\n",
    "    model = StackingRegressor(estimators=level0, final_estimator=level1, cv=5)\n",
    "    return model"
   ]
  },
  {
   "cell_type": "code",
   "execution_count": 31,
   "metadata": {},
   "outputs": [],
   "source": [
    "model = get_stacking() "
   ]
  },
  {
   "cell_type": "code",
   "execution_count": 32,
   "metadata": {
    "scrolled": true
   },
   "outputs": [
    {
     "data": {
      "text/plain": [
       "StackingRegressor(cv=5,\n",
       "                  estimators=[('lgbm_regressor',\n",
       "                               LGBMRegressor(learning_rate=0.06, max_depth=11,\n",
       "                                             n_estimators=3000,\n",
       "                                             num_leaves=40)),\n",
       "                              ('catboost',\n",
       "                               <catboost.core.CatBoostRegressor object at 0x0000017A2FE98A30>)],\n",
       "                  final_estimator=LinearRegression())"
      ]
     },
     "execution_count": 32,
     "metadata": {},
     "output_type": "execute_result"
    }
   ],
   "source": [
    "y_ = np.log1p(y)\n",
    "\n",
    "# Model Training\n",
    "model.fit(X, y_)"
   ]
  },
  {
   "cell_type": "code",
   "execution_count": 37,
   "metadata": {},
   "outputs": [
    {
     "name": "stdout",
     "output_type": "stream",
     "text": [
      "Collecting shapash\n",
      "  Using cached shapash-1.3.2-py2.py3-none-any.whl (863 kB)\n",
      "Requirement already satisfied: pandas>1.0.2 in c:\\users\\sreeram\\anaconda3\\lib\\site-packages (from shapash) (1.0.5)\n",
      "Requirement already satisfied: nbconvert==6.0.7 in c:\\users\\sreeram\\anaconda3\\lib\\site-packages (from shapash) (6.0.7)\n",
      "Requirement already satisfied: papermill==2.3.2 in c:\\users\\sreeram\\anaconda3\\lib\\site-packages (from shapash) (2.3.2)\n",
      "Collecting numba==0.51.2\n",
      "  Using cached numba-0.51.2-cp38-cp38-win_amd64.whl (2.2 MB)\n",
      "Requirement already satisfied: seaborn==0.11.1 in c:\\users\\sreeram\\anaconda3\\lib\\site-packages (from shapash) (0.11.1)\n",
      "Requirement already satisfied: numpy>1.18.0 in c:\\users\\sreeram\\anaconda3\\lib\\site-packages (from shapash) (1.19.1)\n",
      "Requirement already satisfied: plotly==4.12.0 in c:\\users\\sreeram\\anaconda3\\lib\\site-packages (from shapash) (4.12.0)\n",
      "Requirement already satisfied: matplotlib>=3.0 in c:\\users\\sreeram\\anaconda3\\lib\\site-packages (from shapash) (3.2.2)\n",
      "Requirement already satisfied: nbformat>4.2.0 in c:\\users\\sreeram\\anaconda3\\lib\\site-packages (from shapash) (5.1.3)\n",
      "Requirement already satisfied: dash-daq==0.5.0 in c:\\users\\sreeram\\anaconda3\\lib\\site-packages (from shapash) (0.5.0)\n",
      "Collecting shap==0.37.0\n",
      "  Using cached shap-0.37.0-cp38-cp38-win_amd64.whl (377 kB)\n",
      "Requirement already satisfied: dash-table==4.11.0 in c:\\users\\sreeram\\anaconda3\\lib\\site-packages (from shapash) (4.11.0)\n",
      "Requirement already satisfied: dash-renderer==1.8.3 in c:\\users\\sreeram\\anaconda3\\lib\\site-packages (from shapash) (1.8.3)\n",
      "Requirement already satisfied: dash-bootstrap-components==0.9.1 in c:\\users\\sreeram\\anaconda3\\lib\\site-packages (from shapash) (0.9.1)\n",
      "Requirement already satisfied: dash==1.17.0 in c:\\users\\sreeram\\anaconda3\\lib\\site-packages (from shapash) (1.17.0)\n",
      "Requirement already satisfied: dash-core-components==1.13.0 in c:\\users\\sreeram\\anaconda3\\lib\\site-packages (from shapash) (1.13.0)\n",
      "Requirement already satisfied: dash-html-components==1.1.1 in c:\\users\\sreeram\\anaconda3\\lib\\site-packages (from shapash) (1.1.1)\n",
      "Requirement already satisfied: python-dateutil>=2.6.1 in c:\\users\\sreeram\\anaconda3\\lib\\site-packages (from pandas>1.0.2->shapash) (2.8.1)\n",
      "Requirement already satisfied: pytz>=2017.2 in c:\\users\\sreeram\\anaconda3\\lib\\site-packages (from pandas>1.0.2->shapash) (2020.1)\n",
      "Requirement already satisfied: traitlets>=4.2 in c:\\users\\sreeram\\anaconda3\\lib\\site-packages (from nbconvert==6.0.7->shapash) (4.3.3)\n",
      "Requirement already satisfied: nbclient<0.6.0,>=0.5.0 in c:\\users\\sreeram\\anaconda3\\lib\\site-packages (from nbconvert==6.0.7->shapash) (0.5.3)\n",
      "Requirement already satisfied: jinja2>=2.4 in c:\\users\\sreeram\\anaconda3\\lib\\site-packages (from nbconvert==6.0.7->shapash) (2.11.2)\n",
      "Requirement already satisfied: defusedxml in c:\\users\\sreeram\\anaconda3\\lib\\site-packages (from nbconvert==6.0.7->shapash) (0.6.0)\n",
      "Requirement already satisfied: jupyterlab-pygments in c:\\users\\sreeram\\anaconda3\\lib\\site-packages (from nbconvert==6.0.7->shapash) (0.1.2)\n",
      "Requirement already satisfied: pygments>=2.4.1 in c:\\users\\sreeram\\anaconda3\\lib\\site-packages (from nbconvert==6.0.7->shapash) (2.6.1)\n",
      "Requirement already satisfied: pandocfilters>=1.4.1 in c:\\users\\sreeram\\anaconda3\\lib\\site-packages (from nbconvert==6.0.7->shapash) (1.4.2)\n",
      "Requirement already satisfied: entrypoints>=0.2.2 in c:\\users\\sreeram\\anaconda3\\lib\\site-packages (from nbconvert==6.0.7->shapash) (0.3)\n",
      "Requirement already satisfied: jupyter-core in c:\\users\\sreeram\\anaconda3\\lib\\site-packages (from nbconvert==6.0.7->shapash) (4.6.3)\n",
      "Requirement already satisfied: testpath in c:\\users\\sreeram\\anaconda3\\lib\\site-packages (from nbconvert==6.0.7->shapash) (0.4.4)\n",
      "Requirement already satisfied: mistune<2,>=0.8.1 in c:\\users\\sreeram\\anaconda3\\lib\\site-packages (from nbconvert==6.0.7->shapash) (0.8.4)\n",
      "Requirement already satisfied: bleach in c:\\users\\sreeram\\anaconda3\\lib\\site-packages (from nbconvert==6.0.7->shapash) (3.1.5)\n",
      "Requirement already satisfied: requests in c:\\users\\sreeram\\anaconda3\\lib\\site-packages (from papermill==2.3.2->shapash) (2.24.0)\n",
      "Requirement already satisfied: tqdm>=4.32.2 in c:\\users\\sreeram\\anaconda3\\lib\\site-packages (from papermill==2.3.2->shapash) (4.56.0)\n",
      "Requirement already satisfied: black in c:\\users\\sreeram\\anaconda3\\lib\\site-packages (from papermill==2.3.2->shapash) (21.4b1)\n",
      "Requirement already satisfied: tenacity in c:\\users\\sreeram\\anaconda3\\lib\\site-packages (from papermill==2.3.2->shapash) (7.0.0)\n",
      "Requirement already satisfied: pyyaml in c:\\users\\sreeram\\anaconda3\\lib\\site-packages (from papermill==2.3.2->shapash) (5.3.1)\n",
      "Requirement already satisfied: click in c:\\users\\sreeram\\anaconda3\\lib\\site-packages (from papermill==2.3.2->shapash) (7.1.2)\n",
      "Requirement already satisfied: ansiwrap in c:\\users\\sreeram\\anaconda3\\lib\\site-packages (from papermill==2.3.2->shapash) (0.8.4)\n",
      "Collecting llvmlite<0.35,>=0.34.0.dev0\n",
      "  Using cached llvmlite-0.34.0-cp38-cp38-win_amd64.whl (15.9 MB)\n",
      "Requirement already satisfied: setuptools in c:\\users\\sreeram\\anaconda3\\lib\\site-packages (from numba==0.51.2->shapash) (49.2.0.post20200714)\n",
      "Requirement already satisfied: scipy>=1.0 in c:\\users\\sreeram\\anaconda3\\lib\\site-packages (from seaborn==0.11.1->shapash) (1.5.4)\n",
      "Requirement already satisfied: six in c:\\users\\sreeram\\anaconda3\\lib\\site-packages (from plotly==4.12.0->shapash) (1.15.0)\n",
      "Requirement already satisfied: retrying>=1.3.3 in c:\\users\\sreeram\\anaconda3\\lib\\site-packages (from plotly==4.12.0->shapash) (1.3.3)\n",
      "Requirement already satisfied: kiwisolver>=1.0.1 in c:\\users\\sreeram\\anaconda3\\lib\\site-packages (from matplotlib>=3.0->shapash) (1.2.0)\n",
      "Requirement already satisfied: cycler>=0.10 in c:\\users\\sreeram\\anaconda3\\lib\\site-packages (from matplotlib>=3.0->shapash) (0.10.0)\n",
      "Requirement already satisfied: pyparsing!=2.0.4,!=2.1.2,!=2.1.6,>=2.0.1 in c:\\users\\sreeram\\anaconda3\\lib\\site-packages (from matplotlib>=3.0->shapash) (2.4.7)\n",
      "Requirement already satisfied: ipython-genutils in c:\\users\\sreeram\\anaconda3\\lib\\site-packages (from nbformat>4.2.0->shapash) (0.2.0)\n",
      "Requirement already satisfied: jsonschema!=2.5.0,>=2.4 in c:\\users\\sreeram\\anaconda3\\lib\\site-packages (from nbformat>4.2.0->shapash) (3.2.0)\n",
      "Requirement already satisfied: slicer==0.0.3 in c:\\users\\sreeram\\anaconda3\\lib\\site-packages (from shap==0.37.0->shapash) (0.0.3)\n",
      "Requirement already satisfied: scikit-learn in c:\\users\\sreeram\\anaconda3\\lib\\site-packages (from shap==0.37.0->shapash) (0.24.1)\n",
      "Requirement already satisfied: Flask>=1.0.2 in c:\\users\\sreeram\\anaconda3\\lib\\site-packages (from dash==1.17.0->shapash) (1.1.2)\n",
      "Requirement already satisfied: future in c:\\users\\sreeram\\anaconda3\\lib\\site-packages (from dash==1.17.0->shapash) (0.18.2)\n",
      "Requirement already satisfied: flask-compress in c:\\users\\sreeram\\anaconda3\\lib\\site-packages (from dash==1.17.0->shapash) (1.9.0)\n",
      "Requirement already satisfied: decorator in c:\\users\\sreeram\\anaconda3\\lib\\site-packages (from traitlets>=4.2->nbconvert==6.0.7->shapash) (4.4.2)\n",
      "Requirement already satisfied: jupyter-client>=6.1.5 in c:\\users\\sreeram\\anaconda3\\lib\\site-packages (from nbclient<0.6.0,>=0.5.0->nbconvert==6.0.7->shapash) (6.1.6)\n",
      "Requirement already satisfied: async-generator in c:\\users\\sreeram\\anaconda3\\lib\\site-packages (from nbclient<0.6.0,>=0.5.0->nbconvert==6.0.7->shapash) (1.10)\n",
      "Requirement already satisfied: nest-asyncio in c:\\users\\sreeram\\anaconda3\\lib\\site-packages (from nbclient<0.6.0,>=0.5.0->nbconvert==6.0.7->shapash) (1.5.1)\n",
      "Requirement already satisfied: MarkupSafe>=0.23 in c:\\users\\sreeram\\anaconda3\\lib\\site-packages (from jinja2>=2.4->nbconvert==6.0.7->shapash) (1.1.1)\n",
      "Requirement already satisfied: pywin32>=1.0; sys_platform == \"win32\" in c:\\users\\sreeram\\anaconda3\\lib\\site-packages (from jupyter-core->nbconvert==6.0.7->shapash) (227)\n",
      "Requirement already satisfied: webencodings in c:\\users\\sreeram\\anaconda3\\lib\\site-packages (from bleach->nbconvert==6.0.7->shapash) (0.5.1)\n",
      "Requirement already satisfied: packaging in c:\\users\\sreeram\\anaconda3\\lib\\site-packages (from bleach->nbconvert==6.0.7->shapash) (20.4)\n",
      "Requirement already satisfied: certifi>=2017.4.17 in c:\\users\\sreeram\\anaconda3\\lib\\site-packages (from requests->papermill==2.3.2->shapash) (2020.6.20)\n",
      "Requirement already satisfied: chardet<4,>=3.0.2 in c:\\users\\sreeram\\anaconda3\\lib\\site-packages (from requests->papermill==2.3.2->shapash) (3.0.4)\n",
      "Requirement already satisfied: urllib3!=1.25.0,!=1.25.1,<1.26,>=1.21.1 in c:\\users\\sreeram\\anaconda3\\lib\\site-packages (from requests->papermill==2.3.2->shapash) (1.25.9)\n",
      "Requirement already satisfied: idna<3,>=2.5 in c:\\users\\sreeram\\anaconda3\\lib\\site-packages (from requests->papermill==2.3.2->shapash) (2.10)\n",
      "Requirement already satisfied: mypy-extensions>=0.4.3 in c:\\users\\sreeram\\anaconda3\\lib\\site-packages (from black->papermill==2.3.2->shapash) (0.4.3)\n",
      "Requirement already satisfied: appdirs in c:\\users\\sreeram\\anaconda3\\lib\\site-packages (from black->papermill==2.3.2->shapash) (1.4.4)\n",
      "Requirement already satisfied: regex>=2020.1.8 in c:\\users\\sreeram\\anaconda3\\lib\\site-packages (from black->papermill==2.3.2->shapash) (2020.6.8)\n",
      "Requirement already satisfied: pathspec<1,>=0.8.1 in c:\\users\\sreeram\\anaconda3\\lib\\site-packages (from black->papermill==2.3.2->shapash) (0.8.1)\n",
      "Requirement already satisfied: toml>=0.10.1 in c:\\users\\sreeram\\anaconda3\\lib\\site-packages (from black->papermill==2.3.2->shapash) (0.10.1)\n",
      "Requirement already satisfied: textwrap3>=0.9.2 in c:\\users\\sreeram\\anaconda3\\lib\\site-packages (from ansiwrap->papermill==2.3.2->shapash) (0.9.2)\n",
      "Requirement already satisfied: pyrsistent>=0.14.0 in c:\\users\\sreeram\\anaconda3\\lib\\site-packages (from jsonschema!=2.5.0,>=2.4->nbformat>4.2.0->shapash) (0.16.0)\n",
      "Requirement already satisfied: attrs>=17.4.0 in c:\\users\\sreeram\\anaconda3\\lib\\site-packages (from jsonschema!=2.5.0,>=2.4->nbformat>4.2.0->shapash) (19.3.0)\n",
      "Requirement already satisfied: joblib>=0.11 in c:\\users\\sreeram\\anaconda3\\lib\\site-packages (from scikit-learn->shap==0.37.0->shapash) (1.0.0)\n",
      "Requirement already satisfied: threadpoolctl>=2.0.0 in c:\\users\\sreeram\\anaconda3\\lib\\site-packages (from scikit-learn->shap==0.37.0->shapash) (2.1.0)\n",
      "Requirement already satisfied: itsdangerous>=0.24 in c:\\users\\sreeram\\anaconda3\\lib\\site-packages (from Flask>=1.0.2->dash==1.17.0->shapash) (1.1.0)\n",
      "Requirement already satisfied: Werkzeug>=0.15 in c:\\users\\sreeram\\anaconda3\\lib\\site-packages (from Flask>=1.0.2->dash==1.17.0->shapash) (1.0.1)\n",
      "Requirement already satisfied: brotli in c:\\users\\sreeram\\anaconda3\\lib\\site-packages (from flask-compress->dash==1.17.0->shapash) (1.0.9)\n",
      "Requirement already satisfied: tornado>=4.1 in c:\\users\\sreeram\\anaconda3\\lib\\site-packages (from jupyter-client>=6.1.5->nbclient<0.6.0,>=0.5.0->nbconvert==6.0.7->shapash) (6.0.4)\n",
      "Requirement already satisfied: pyzmq>=13 in c:\\users\\sreeram\\anaconda3\\lib\\site-packages (from jupyter-client>=6.1.5->nbclient<0.6.0,>=0.5.0->nbconvert==6.0.7->shapash) (19.0.1)\n",
      "Installing collected packages: llvmlite, numba, shap, shapash\n",
      "  Attempting uninstall: llvmlite\n",
      "    Found existing installation: llvmlite 0.36.0\n",
      "    Uninstalling llvmlite-0.36.0:\n",
      "      Successfully uninstalled llvmlite-0.36.0\n",
      "  Attempting uninstall: numba\n",
      "    Found existing installation: numba 0.50.1\n",
      "    Uninstalling numba-0.50.1:\n",
      "      Successfully uninstalled numba-0.50.1\n",
      "Successfully installed llvmlite-0.34.0 numba-0.51.2 shap-0.37.0 shapash-1.3.2\n"
     ]
    }
   ],
   "source": [
    "\n",
    "!pip install shapash"
   ]
  },
  {
   "cell_type": "code",
   "execution_count": 38,
   "metadata": {},
   "outputs": [],
   "source": [
    "from shapash.explainer.smart_explainer import SmartExplainer\n",
    "xpl = SmartExplainer()"
   ]
  },
  {
   "cell_type": "code",
   "execution_count": 43,
   "metadata": {},
   "outputs": [
    {
     "data": {
      "text/plain": [
       "StackingRegressor(cv=5,\n",
       "                  estimators=[('lgbm_regressor',\n",
       "                               LGBMRegressor(learning_rate=0.06, max_depth=11,\n",
       "                                             n_estimators=3000,\n",
       "                                             num_leaves=40)),\n",
       "                              ('catboost',\n",
       "                               <catboost.core.CatBoostRegressor object at 0x0000017A2FE98A30>)],\n",
       "                  final_estimator=LinearRegression())"
      ]
     },
     "execution_count": 43,
     "metadata": {},
     "output_type": "execute_result"
    }
   ],
   "source": [
    "model"
   ]
  },
  {
   "cell_type": "code",
   "execution_count": 45,
   "metadata": {
    "scrolled": true
   },
   "outputs": [
    {
     "name": "stdout",
     "output_type": "stream",
     "text": [
      "Backend: Shap TreeExplainer\n"
     ]
    }
   ],
   "source": [
    "xpl.compile(\n",
    "    x=test,\n",
    "    model=model)"
   ]
  },
  {
   "cell_type": "code",
   "execution_count": 46,
   "metadata": {},
   "outputs": [
    {
     "name": "stdout",
     "output_type": "stream",
     "text": [
      "Dash is running on http://0.0.0.0:8050/\n",
      "\n"
     ]
    },
    {
     "name": "stderr",
     "output_type": "stream",
     "text": [
      "INFO:shapash.webapp.smart_app:Dash is running on http://0.0.0.0:8050/\n",
      "\n",
      "INFO:root:Your Shapash application run on http://DESKTOP-80D9D2J:8050/\n",
      "INFO:root:Use the method .kill() to down your app.\n"
     ]
    },
    {
     "name": "stdout",
     "output_type": "stream",
     "text": [
      " * Serving Flask app \"shapash.webapp.smart_app\" (lazy loading)\n",
      " * Environment: production\n",
      "   WARNING: This is a development server. Do not use it in a production deployment.\n",
      "   Use a production WSGI server instead.\n",
      " * Debug mode: off\n"
     ]
    },
    {
     "name": "stderr",
     "output_type": "stream",
     "text": [
      "INFO:werkzeug: * Running on http://0.0.0.0:8050/ (Press CTRL+C to quit)\n",
      "INFO:werkzeug:192.168.225.82 - - [28/Apr/2021 18:36:28] \"\u001b[37mGET / HTTP/1.1\u001b[0m\" 200 -\n",
      "INFO:werkzeug:192.168.225.82 - - [28/Apr/2021 18:36:28] \"\u001b[37mGET /assets/material-icons.css?m=1619608247.1159441 HTTP/1.1\u001b[0m\" 200 -\n",
      "INFO:werkzeug:192.168.225.82 - - [28/Apr/2021 18:36:29] \"\u001b[37mGET /assets/style.css?m=1619608247.1199377 HTTP/1.1\u001b[0m\" 200 -\n",
      "INFO:werkzeug:192.168.225.82 - - [28/Apr/2021 18:36:29] \"\u001b[37mGET /_dash-component-suites/dash_renderer/react@16.v1_8_3m1619604667.14.0.min.js HTTP/1.1\u001b[0m\" 200 -\n",
      "INFO:werkzeug:192.168.225.82 - - [28/Apr/2021 18:36:29] \"\u001b[37mGET /_dash-component-suites/dash_renderer/polyfill@7.v1_8_3m1619604667.8.7.min.js HTTP/1.1\u001b[0m\" 200 -\n",
      "INFO:werkzeug:192.168.225.82 - - [28/Apr/2021 18:36:29] \"\u001b[37mGET /_dash-component-suites/dash_renderer/prop-types@15.v1_8_3m1619604667.7.2.min.js HTTP/1.1\u001b[0m\" 200 -\n",
      "INFO:werkzeug:192.168.225.82 - - [28/Apr/2021 18:36:29] \"\u001b[37mGET /_dash-component-suites/dash_renderer/react-dom@16.v1_8_3m1619604667.14.0.min.js HTTP/1.1\u001b[0m\" 200 -\n",
      "INFO:werkzeug:192.168.225.82 - - [28/Apr/2021 18:36:29] \"\u001b[37mGET /_dash-component-suites/dash_html_components/dash_html_components.v1_1_1m1619607962.min.js HTTP/1.1\u001b[0m\" 200 -\n",
      "INFO:werkzeug:192.168.225.82 - - [28/Apr/2021 18:36:29] \"\u001b[37mGET /_dash-component-suites/dash_bootstrap_components/_components/dash_bootstrap_components.v0_9_1m1619607964.min.js HTTP/1.1\u001b[0m\" 200 -\n",
      "INFO:werkzeug:192.168.225.82 - - [28/Apr/2021 18:36:29] \"\u001b[37mGET /_dash-component-suites/dash_table/bundle.v4_11_0m1619604711.js HTTP/1.1\u001b[0m\" 200 -\n",
      "INFO:werkzeug:192.168.225.82 - - [28/Apr/2021 18:36:29] \"\u001b[37mGET /_dash-component-suites/dash_core_components/dash_core_components-shared.v1_13_0m1619604667.js HTTP/1.1\u001b[0m\" 200 -\n",
      "INFO:werkzeug:192.168.225.82 - - [28/Apr/2021 18:36:29] \"\u001b[37mGET /assets/main.js?m=1619608247.1159441 HTTP/1.1\u001b[0m\" 200 -\n",
      "INFO:werkzeug:192.168.225.82 - - [28/Apr/2021 18:36:29] \"\u001b[37mGET /assets/jquery.js?m=1619608247.1119428 HTTP/1.1\u001b[0m\" 200 -\n",
      "INFO:werkzeug:192.168.225.82 - - [28/Apr/2021 18:36:29] \"\u001b[37mGET /_dash-component-suites/dash_core_components/dash_core_components.v1_13_0m1619604667.min.js HTTP/1.1\u001b[0m\" 200 -\n",
      "INFO:werkzeug:192.168.225.82 - - [28/Apr/2021 18:36:29] \"\u001b[37mGET /_dash-component-suites/dash_renderer/dash_renderer.v1_8_3m1619604667.min.js HTTP/1.1\u001b[0m\" 200 -\n",
      "INFO:werkzeug:192.168.225.82 - - [28/Apr/2021 18:36:41] \"\u001b[37mGET /_dash-dependencies HTTP/1.1\u001b[0m\" 200 -\n",
      "INFO:werkzeug:192.168.225.82 - - [28/Apr/2021 18:36:51] \"\u001b[37mGET /assets/favicon.ico?m=1619608247.1119428 HTTP/1.1\u001b[0m\" 200 -\n",
      "INFO:werkzeug:192.168.225.82 - - [28/Apr/2021 18:36:54] \"\u001b[37mGET /_dash-layout HTTP/1.1\u001b[0m\" 200 -\n",
      "INFO:werkzeug:192.168.225.82 - - [28/Apr/2021 18:36:56] \"\u001b[37mGET / HTTP/1.1\u001b[0m\" 200 -\n",
      "INFO:werkzeug:192.168.225.82 - - [28/Apr/2021 18:37:20] \"\u001b[37mGET /_dash-dependencies HTTP/1.1\u001b[0m\" 200 -\n",
      "INFO:werkzeug:192.168.225.82 - - [28/Apr/2021 18:37:20] \"\u001b[37mGET /assets/favicon.ico?m=1619608247.1119428 HTTP/1.1\u001b[0m\" 200 -\n",
      "INFO:werkzeug:192.168.225.82 - - [28/Apr/2021 18:37:23] \"\u001b[37mGET /_dash-layout HTTP/1.1\u001b[0m\" 200 -\n",
      "INFO:werkzeug:192.168.225.82 - - [28/Apr/2021 18:37:28] \"\u001b[37mPOST /_dash-update-component HTTP/1.1\u001b[0m\" 200 -\n",
      "INFO:werkzeug:192.168.225.82 - - [28/Apr/2021 18:37:28] \"\u001b[37mPOST /_dash-update-component HTTP/1.1\u001b[0m\" 200 -\n",
      "INFO:werkzeug:192.168.225.82 - - [28/Apr/2021 18:37:28] \"\u001b[37mPOST /_dash-update-component HTTP/1.1\u001b[0m\" 200 -\n",
      "INFO:werkzeug:192.168.225.82 - - [28/Apr/2021 18:37:28] \"\u001b[37mGET /assets/reload.png HTTP/1.1\u001b[0m\" 200 -\n",
      "INFO:werkzeug:192.168.225.82 - - [28/Apr/2021 18:37:28] \"\u001b[37mGET /assets/settings.png HTTP/1.1\u001b[0m\" 200 -\n",
      "INFO:werkzeug:192.168.225.82 - - [28/Apr/2021 18:37:28] \"\u001b[37mPOST /_dash-update-component HTTP/1.1\u001b[0m\" 200 -\n",
      "INFO:werkzeug:192.168.225.82 - - [28/Apr/2021 18:37:28] \"\u001b[37mPOST /_dash-update-component HTTP/1.1\u001b[0m\" 200 -\n",
      "INFO:werkzeug:192.168.225.82 - - [28/Apr/2021 18:37:28] \"\u001b[37mPOST /_dash-update-component HTTP/1.1\u001b[0m\" 200 -\n",
      "INFO:werkzeug:192.168.225.82 - - [28/Apr/2021 18:37:28] \"\u001b[37mPOST /_dash-update-component HTTP/1.1\u001b[0m\" 200 -\n",
      "INFO:werkzeug:192.168.225.82 - - [28/Apr/2021 18:37:28] \"\u001b[37mPOST /_dash-update-component HTTP/1.1\u001b[0m\" 200 -\n",
      "INFO:werkzeug:192.168.225.82 - - [28/Apr/2021 18:37:28] \"\u001b[37mPOST /_dash-update-component HTTP/1.1\u001b[0m\" 200 -\n",
      "INFO:werkzeug:192.168.225.82 - - [28/Apr/2021 18:37:28] \"\u001b[37mPOST /_dash-update-component HTTP/1.1\u001b[0m\" 200 -\n",
      "INFO:werkzeug:192.168.225.82 - - [28/Apr/2021 18:37:28] \"\u001b[37mPOST /_dash-update-component HTTP/1.1\u001b[0m\" 200 -\n",
      "INFO:werkzeug:192.168.225.82 - - [28/Apr/2021 18:37:28] \"\u001b[37mGET /_dash-component-suites/dash_core_components/async-graph.v1_13_0m1604001894.js HTTP/1.1\u001b[0m\" 200 -\n",
      "INFO:werkzeug:192.168.225.82 - - [28/Apr/2021 18:37:28] \"\u001b[37mGET /_dash-component-suites/dash_core_components/async-dropdown.v1_13_0m1604001894.js HTTP/1.1\u001b[0m\" 200 -\n",
      "INFO:werkzeug:192.168.225.82 - - [28/Apr/2021 18:37:29] \"\u001b[37mGET /_dash-component-suites/dash_table/async-table.v4_11_0m1604001235.js HTTP/1.1\u001b[0m\" 200 -\n",
      "INFO:werkzeug:192.168.225.82 - - [28/Apr/2021 18:37:29] \"\u001b[37mGET /_dash-component-suites/dash_core_components/async-plotlyjs.v1_13_0m1604001894.js HTTP/1.1\u001b[0m\" 200 -\n",
      "INFO:werkzeug:192.168.225.82 - - [28/Apr/2021 18:37:29] \"\u001b[37mPOST /_dash-update-component HTTP/1.1\u001b[0m\" 200 -\n",
      "INFO:werkzeug:192.168.225.82 - - [28/Apr/2021 18:37:29] \"\u001b[37mGET /_dash-component-suites/dash_core_components/async-slider.v1_13_0m1604001894.js HTTP/1.1\u001b[0m\" 200 -\n",
      "INFO:werkzeug:192.168.225.82 - - [28/Apr/2021 18:37:29] \"\u001b[37mGET /assets/shapash-fond-fonce.png HTTP/1.1\u001b[0m\" 200 -\n",
      "INFO:werkzeug:192.168.225.82 - - [28/Apr/2021 18:37:40] \"\u001b[37mPOST /_dash-update-component HTTP/1.1\u001b[0m\" 200 -\n",
      "INFO:werkzeug:192.168.225.82 - - [28/Apr/2021 18:38:12] \"\u001b[37mPOST /_dash-update-component HTTP/1.1\u001b[0m\" 200 -\n",
      "INFO:werkzeug:192.168.225.82 - - [28/Apr/2021 18:38:13] \"\u001b[37mPOST /_dash-update-component HTTP/1.1\u001b[0m\" 200 -\n",
      "INFO:werkzeug:192.168.225.82 - - [28/Apr/2021 18:38:15] \"\u001b[37mPOST /_dash-update-component HTTP/1.1\u001b[0m\" 200 -\n",
      "INFO:werkzeug:192.168.225.82 - - [28/Apr/2021 18:38:16] \"\u001b[37mPOST /_dash-update-component HTTP/1.1\u001b[0m\" 200 -\n",
      "INFO:werkzeug:192.168.225.82 - - [28/Apr/2021 18:38:20] \"\u001b[37mPOST /_dash-update-component HTTP/1.1\u001b[0m\" 200 -\n",
      "INFO:werkzeug:192.168.225.82 - - [28/Apr/2021 18:38:21] \"\u001b[37mPOST /_dash-update-component HTTP/1.1\u001b[0m\" 200 -\n",
      "INFO:werkzeug:192.168.225.82 - - [28/Apr/2021 18:39:01] \"\u001b[37mPOST /_dash-update-component HTTP/1.1\u001b[0m\" 200 -\n",
      "INFO:werkzeug:192.168.225.82 - - [28/Apr/2021 18:39:03] \"\u001b[37mPOST /_dash-update-component HTTP/1.1\u001b[0m\" 200 -\n",
      "INFO:werkzeug:192.168.225.82 - - [28/Apr/2021 18:39:08] \"\u001b[37mPOST /_dash-update-component HTTP/1.1\u001b[0m\" 200 -\n",
      "INFO:werkzeug:192.168.225.82 - - [28/Apr/2021 18:39:08] \"\u001b[37mPOST /_dash-update-component HTTP/1.1\u001b[0m\" 200 -\n",
      "INFO:werkzeug:192.168.225.82 - - [28/Apr/2021 18:39:39] \"\u001b[37mPOST /_dash-update-component HTTP/1.1\u001b[0m\" 200 -\n",
      "INFO:werkzeug:192.168.225.82 - - [28/Apr/2021 18:39:40] \"\u001b[37mPOST /_dash-update-component HTTP/1.1\u001b[0m\" 200 -\n",
      "INFO:werkzeug:192.168.225.82 - - [28/Apr/2021 18:39:45] \"\u001b[37mPOST /_dash-update-component HTTP/1.1\u001b[0m\" 200 -\n",
      "INFO:werkzeug:192.168.225.82 - - [28/Apr/2021 18:39:46] \"\u001b[37mPOST /_dash-update-component HTTP/1.1\u001b[0m\" 200 -\n"
     ]
    }
   ],
   "source": [
    "app = xpl.run_app(title_story='Workkation Price Prediction')"
   ]
  },
  {
   "cell_type": "code",
   "execution_count": 33,
   "metadata": {
    "scrolled": true
   },
   "outputs": [
    {
     "name": "stdout",
     "output_type": "stream",
     "text": [
      "0.25.1\n"
     ]
    }
   ],
   "source": [
    "import catboost\n",
    "print(catboost.__version__)"
   ]
  },
  {
   "cell_type": "code",
   "execution_count": 34,
   "metadata": {},
   "outputs": [],
   "source": [
    "sub = pd.DataFrame(np.expm1(model.predict(test)), columns=['Per Person Price'])"
   ]
  },
  {
   "cell_type": "code",
   "execution_count": 43,
   "metadata": {
    "scrolled": true
   },
   "outputs": [],
   "source": [
    "sub.to_csv(r'D:\\Downloads\\Workkation Price Prediction\\Participant_Data_WPPH\\Flask Deployment\\Stackingreg.csv',index=False)"
   ]
  },
  {
   "cell_type": "code",
   "execution_count": 36,
   "metadata": {
    "scrolled": true
   },
   "outputs": [
    {
     "data": {
      "image/png": "[encoded data removed]",
      "text/plain": [
       "<Figure size 432x288 with 1 Axes>"
      ]
     },
     "metadata": {
      "needs_background": "light"
     },
     "output_type": "display_data"
    }
   ],
   "source": [
    "%matplotlib inline\n",
    "sns.kdeplot(data=sub['Per Person Price'],shade=True)\n",
    "plt.title('Price Distribution')\n",
    "plt.show()"
   ]
  },
  {
   "cell_type": "code",
   "execution_count": 44,
   "metadata": {
    "scrolled": false
   },
   "outputs": [
    {
     "data": {
      "text/html": [
       "<div>\n",
       "<style scoped>\n",
       "    .dataframe tbody tr th:only-of-type {\n",
       "        vertical-align: middle;\n",
       "    }\n",
       "\n",
       "    .dataframe tbody tr th {\n",
       "        vertical-align: top;\n",
       "    }\n",
       "\n",
       "    .dataframe thead th {\n",
       "        text-align: right;\n",
       "    }\n",
       "</style>\n",
       "<table border=\"1\" class=\"dataframe\">\n",
       "  <thead>\n",
       "    <tr style=\"text-align: right;\">\n",
       "      <th></th>\n",
       "      <th>Uniq Id</th>\n",
       "      <th>Package Name</th>\n",
       "      <th>Package Type</th>\n",
       "      <th>Destination</th>\n",
       "      <th>Itinerary</th>\n",
       "      <th>Places Covered</th>\n",
       "      <th>Travel Date</th>\n",
       "      <th>Hotel Details</th>\n",
       "      <th>Start City</th>\n",
       "      <th>Airline</th>\n",
       "      <th>Flight Stops</th>\n",
       "      <th>Meals</th>\n",
       "      <th>Sightseeing Places Covered</th>\n",
       "      <th>Cancellation Rules</th>\n",
       "      <th>Per Person Price</th>\n",
       "    </tr>\n",
       "  </thead>\n",
       "  <tbody>\n",
       "    <tr>\n",
       "      <th>0</th>\n",
       "      <td>e788ab76d9d8cf1e6ed2f139645ca5d1</td>\n",
       "      <td>Best of Shimla and Manali Holiday from Delhi</td>\n",
       "      <td>Standard</td>\n",
       "      <td>New Delhi|Shimla|Manali|Chandigarh</td>\n",
       "      <td>1N New Delhi . 2N Shimla . 2N Manali . 1N Chan...</td>\n",
       "      <td>New Delhi|Shimla|Manali|Chandigarh</td>\n",
       "      <td>30-07-2021</td>\n",
       "      <td>Not Available</td>\n",
       "      <td>Mumbai</td>\n",
       "      <td>Not Available</td>\n",
       "      <td>2</td>\n",
       "      <td>3</td>\n",
       "      <td>Not Available</td>\n",
       "      <td>Not Available</td>\n",
       "      <td>11509.0</td>\n",
       "    </tr>\n",
       "    <tr>\n",
       "      <th>1</th>\n",
       "      <td>178f892630ce3e335a5a41d5d83937fd</td>\n",
       "      <td>Kashmir Valley vacation</td>\n",
       "      <td>Premium</td>\n",
       "      <td>Srinagar|Pahalgam|Srinagar</td>\n",
       "      <td>1N Srinagar . 2N Pahalgam . 1N Srinagar</td>\n",
       "      <td>Srinagar|Pahalgam|Srinagar</td>\n",
       "      <td>08-12-2021</td>\n",
       "      <td>The Orchard Retreat &amp; Spa:4.6|WelcomHotel Pine...</td>\n",
       "      <td>New Delhi</td>\n",
       "      <td>IndiGo|IndiGo</td>\n",
       "      <td>0</td>\n",
       "      <td>5</td>\n",
       "      <td>Dal Lake | Avantipura Ruins | Mughal Gardens ...</td>\n",
       "      <td>Cancellation any time after making the 1st pay...</td>\n",
       "      <td>22485.5</td>\n",
       "    </tr>\n",
       "    <tr>\n",
       "      <th>2</th>\n",
       "      <td>f060f2954840503cc2fdaf495357b7df</td>\n",
       "      <td>Might of Mewar- Udaipur and Chittorgarh</td>\n",
       "      <td>Luxury</td>\n",
       "      <td>Udaipur|Chittorgarh</td>\n",
       "      <td>2N Udaipur . 1N Chittorgarh</td>\n",
       "      <td>Udaipur|Chittorgarh</td>\n",
       "      <td>26-04-2021</td>\n",
       "      <td>The Ananta:4.4|juSTa Lake Nahargarh Palace:4</td>\n",
       "      <td>New Delhi</td>\n",
       "      <td>IndiGo</td>\n",
       "      <td>0</td>\n",
       "      <td>4</td>\n",
       "      <td>Lake Pichola | Jag Mandir Palace | Saheliyon ...</td>\n",
       "      <td>Cancellation any time after making the 1st pay...</td>\n",
       "      <td>12421.5</td>\n",
       "    </tr>\n",
       "    <tr>\n",
       "      <th>3</th>\n",
       "      <td>32a19a6c171e67448f2346da46c619dc</td>\n",
       "      <td>Colorful Kerala ( Romantic Getaway )</td>\n",
       "      <td>Premium</td>\n",
       "      <td>Munnar|Kumarakom|Allepey|Kovalam and Poovar</td>\n",
       "      <td>2N Munnar . 1N Kumarakom . 1N Allepey . 2N Kov...</td>\n",
       "      <td>Munnar|Kumarakom|Allepey|Kovalam and Poovar</td>\n",
       "      <td>27-08-2021</td>\n",
       "      <td>Elixir Hills Suites Resort &amp; Spa-MMT Holidays ...</td>\n",
       "      <td>New Delhi</td>\n",
       "      <td>IndiGo</td>\n",
       "      <td>0</td>\n",
       "      <td>5</td>\n",
       "      <td>Mattupetty Dam | Echo Point | Tata Tea Museum...</td>\n",
       "      <td>Cancellation any time after making the 1st pay...</td>\n",
       "      <td>35967.0</td>\n",
       "    </tr>\n",
       "    <tr>\n",
       "      <th>4</th>\n",
       "      <td>107b068aa0ca03bc6248966f594d105f</td>\n",
       "      <td>A Week In Bangkok &amp; Pattaya</td>\n",
       "      <td>Premium</td>\n",
       "      <td>Pattaya|Bangkok</td>\n",
       "      <td>4N Pattaya . 3N Bangkok</td>\n",
       "      <td>Pattaya|Bangkok</td>\n",
       "      <td>12-12-2021</td>\n",
       "      <td>Dusit Thani Pattaya - MMT Special:4.5|Amari Wa...</td>\n",
       "      <td>New Delhi</td>\n",
       "      <td>Spicejet|Go Air</td>\n",
       "      <td>0</td>\n",
       "      <td>5</td>\n",
       "      <td>Coral Island Tour with Indian Lunch, Join Spe...</td>\n",
       "      <td>Cancellation any time after making the 1st pay...</td>\n",
       "      <td>25584.0</td>\n",
       "    </tr>\n",
       "  </tbody>\n",
       "</table>\n",
       "</div>"
      ],
      "text/plain": [
       "                            Uniq Id  \\\n",
       "0  e788ab76d9d8cf1e6ed2f139645ca5d1   \n",
       "1  178f892630ce3e335a5a41d5d83937fd   \n",
       "2  f060f2954840503cc2fdaf495357b7df   \n",
       "3  32a19a6c171e67448f2346da46c619dc   \n",
       "4  107b068aa0ca03bc6248966f594d105f   \n",
       "\n",
       "                                   Package Name Package Type  \\\n",
       "0  Best of Shimla and Manali Holiday from Delhi     Standard   \n",
       "1                       Kashmir Valley vacation      Premium   \n",
       "2       Might of Mewar- Udaipur and Chittorgarh       Luxury   \n",
       "3          Colorful Kerala ( Romantic Getaway )      Premium   \n",
       "4                   A Week In Bangkok & Pattaya      Premium   \n",
       "\n",
       "                                   Destination  \\\n",
       "0           New Delhi|Shimla|Manali|Chandigarh   \n",
       "1                   Srinagar|Pahalgam|Srinagar   \n",
       "2                          Udaipur|Chittorgarh   \n",
       "3  Munnar|Kumarakom|Allepey|Kovalam and Poovar   \n",
       "4                              Pattaya|Bangkok   \n",
       "\n",
       "                                           Itinerary  \\\n",
       "0  1N New Delhi . 2N Shimla . 2N Manali . 1N Chan...   \n",
       "1            1N Srinagar . 2N Pahalgam . 1N Srinagar   \n",
       "2                        2N Udaipur . 1N Chittorgarh   \n",
       "3  2N Munnar . 1N Kumarakom . 1N Allepey . 2N Kov...   \n",
       "4                            4N Pattaya . 3N Bangkok   \n",
       "\n",
       "                                Places Covered Travel Date  \\\n",
       "0           New Delhi|Shimla|Manali|Chandigarh  30-07-2021   \n",
       "1                   Srinagar|Pahalgam|Srinagar  08-12-2021   \n",
       "2                          Udaipur|Chittorgarh  26-04-2021   \n",
       "3  Munnar|Kumarakom|Allepey|Kovalam and Poovar  27-08-2021   \n",
       "4                              Pattaya|Bangkok  12-12-2021   \n",
       "\n",
       "                                       Hotel Details Start City  \\\n",
       "0                                      Not Available     Mumbai   \n",
       "1  The Orchard Retreat & Spa:4.6|WelcomHotel Pine...  New Delhi   \n",
       "2       The Ananta:4.4|juSTa Lake Nahargarh Palace:4  New Delhi   \n",
       "3  Elixir Hills Suites Resort & Spa-MMT Holidays ...  New Delhi   \n",
       "4  Dusit Thani Pattaya - MMT Special:4.5|Amari Wa...  New Delhi   \n",
       "\n",
       "           Airline  Flight Stops  Meals  \\\n",
       "0    Not Available             2      3   \n",
       "1    IndiGo|IndiGo             0      5   \n",
       "2           IndiGo             0      4   \n",
       "3           IndiGo             0      5   \n",
       "4  Spicejet|Go Air             0      5   \n",
       "\n",
       "                          Sightseeing Places Covered  \\\n",
       "0                                      Not Available   \n",
       "1   Dal Lake | Avantipura Ruins | Mughal Gardens ...   \n",
       "2   Lake Pichola | Jag Mandir Palace | Saheliyon ...   \n",
       "3   Mattupetty Dam | Echo Point | Tata Tea Museum...   \n",
       "4   Coral Island Tour with Indian Lunch, Join Spe...   \n",
       "\n",
       "                                  Cancellation Rules  Per Person Price  \n",
       "0                                      Not Available           11509.0  \n",
       "1  Cancellation any time after making the 1st pay...           22485.5  \n",
       "2  Cancellation any time after making the 1st pay...           12421.5  \n",
       "3  Cancellation any time after making the 1st pay...           35967.0  \n",
       "4  Cancellation any time after making the 1st pay...           25584.0  "
      ]
     },
     "execution_count": 44,
     "metadata": {},
     "output_type": "execute_result"
    }
   ],
   "source": [
    "train.head()"
   ]
  },
  {
   "cell_type": "code",
   "execution_count": null,
   "metadata": {},
   "outputs": [],
   "source": [
    "oe.inverse_transform"
   ]
  },
  {
   "cell_type": "code",
   "execution_count": 45,
   "metadata": {},
   "outputs": [],
   "source": [
    "def inverse_ordinal_enc(df, col):\n",
    "    df[col] = oe.inverse_transform(df[col])\n",
    "        \n",
    "    return df"
   ]
  },
  {
   "cell_type": "code",
   "execution_count": 59,
   "metadata": {
    "scrolled": false
   },
   "outputs": [
    {
     "ename": "IndexError",
     "evalue": "index 9 is out of bounds for axis 0 with size 8",
     "output_type": "error",
     "traceback": [
      "\u001b[1;31m---------------------------------------------------------------------------\u001b[0m",
      "\u001b[1;31mIndexError\u001b[0m                                Traceback (most recent call last)",
      "\u001b[1;32m<ipython-input-59-5a284bd87328>\u001b[0m in \u001b[0;36m<module>\u001b[1;34m\u001b[0m\n\u001b[1;32m----> 1\u001b[1;33m \u001b[0minverse_ordinal_enc\u001b[0m\u001b[1;33m(\u001b[0m\u001b[0mdf2\u001b[0m\u001b[1;33m,\u001b[0m\u001b[0mcat_feature\u001b[0m\u001b[1;33m)\u001b[0m\u001b[1;33m\u001b[0m\u001b[1;33m\u001b[0m\u001b[0m\n\u001b[0m",
      "\u001b[1;32m<ipython-input-45-38e10ca0aa19>\u001b[0m in \u001b[0;36minverse_ordinal_enc\u001b[1;34m(df, col)\u001b[0m\n\u001b[0;32m      1\u001b[0m \u001b[1;32mdef\u001b[0m \u001b[0minverse_ordinal_enc\u001b[0m\u001b[1;33m(\u001b[0m\u001b[0mdf\u001b[0m\u001b[1;33m,\u001b[0m \u001b[0mcol\u001b[0m\u001b[1;33m)\u001b[0m\u001b[1;33m:\u001b[0m\u001b[1;33m\u001b[0m\u001b[1;33m\u001b[0m\u001b[0m\n\u001b[1;32m----> 2\u001b[1;33m     \u001b[0mdf\u001b[0m\u001b[1;33m[\u001b[0m\u001b[0mcol\u001b[0m\u001b[1;33m]\u001b[0m \u001b[1;33m=\u001b[0m \u001b[0moe\u001b[0m\u001b[1;33m.\u001b[0m\u001b[0minverse_transform\u001b[0m\u001b[1;33m(\u001b[0m\u001b[0mdf\u001b[0m\u001b[1;33m[\u001b[0m\u001b[0mcol\u001b[0m\u001b[1;33m]\u001b[0m\u001b[1;33m)\u001b[0m\u001b[1;33m\u001b[0m\u001b[1;33m\u001b[0m\u001b[0m\n\u001b[0m\u001b[0;32m      3\u001b[0m \u001b[1;33m\u001b[0m\u001b[0m\n\u001b[0;32m      4\u001b[0m     \u001b[1;32mreturn\u001b[0m \u001b[0mdf\u001b[0m\u001b[1;33m\u001b[0m\u001b[1;33m\u001b[0m\u001b[0m\n",
      "\u001b[1;32m~\\anaconda3\\lib\\site-packages\\sklearn\\preprocessing\\_encoders.py\u001b[0m in \u001b[0;36minverse_transform\u001b[1;34m(self, X)\u001b[0m\n\u001b[0;32m    829\u001b[0m             \u001b[1;32mif\u001b[0m \u001b[0mself\u001b[0m\u001b[1;33m.\u001b[0m\u001b[0mhandle_unknown\u001b[0m \u001b[1;33m==\u001b[0m \u001b[1;34m'use_encoded_value'\u001b[0m\u001b[1;33m:\u001b[0m\u001b[1;33m\u001b[0m\u001b[1;33m\u001b[0m\u001b[0m\n\u001b[0;32m    830\u001b[0m                 \u001b[0munknown_labels\u001b[0m \u001b[1;33m=\u001b[0m \u001b[0mlabels\u001b[0m \u001b[1;33m==\u001b[0m \u001b[0mself\u001b[0m\u001b[1;33m.\u001b[0m\u001b[0munknown_value\u001b[0m\u001b[1;33m\u001b[0m\u001b[1;33m\u001b[0m\u001b[0m\n\u001b[1;32m--> 831\u001b[1;33m                 X_tr[:, i] = self.categories_[i][np.where(\n\u001b[0m\u001b[0;32m    832\u001b[0m                     unknown_labels, 0, labels)]\n\u001b[0;32m    833\u001b[0m                 \u001b[0mfound_unknown\u001b[0m\u001b[1;33m[\u001b[0m\u001b[0mi\u001b[0m\u001b[1;33m]\u001b[0m \u001b[1;33m=\u001b[0m \u001b[0munknown_labels\u001b[0m\u001b[1;33m\u001b[0m\u001b[1;33m\u001b[0m\u001b[0m\n",
      "\u001b[1;31mIndexError\u001b[0m: index 9 is out of bounds for axis 0 with size 8"
     ]
    }
   ],
   "source": [
    "inverse_ordinal_enc(df2,cat_feature)"
   ]
  },
  {
   "cell_type": "code",
   "execution_count": 61,
   "metadata": {},
   "outputs": [
    {
     "data": {
      "text/html": [
       "<div>\n",
       "<style scoped>\n",
       "    .dataframe tbody tr th:only-of-type {\n",
       "        vertical-align: middle;\n",
       "    }\n",
       "\n",
       "    .dataframe tbody tr th {\n",
       "        vertical-align: top;\n",
       "    }\n",
       "\n",
       "    .dataframe thead th {\n",
       "        text-align: right;\n",
       "    }\n",
       "</style>\n",
       "<table border=\"1\" class=\"dataframe\">\n",
       "  <thead>\n",
       "    <tr style=\"text-align: right;\">\n",
       "      <th></th>\n",
       "      <th>Package Type</th>\n",
       "      <th>Destination</th>\n",
       "      <th>Start City</th>\n",
       "      <th>Flight Stops</th>\n",
       "      <th>Meals</th>\n",
       "      <th>Cancellation Rules</th>\n",
       "      <th>Per Person Price</th>\n",
       "      <th>Total Destinations Covered</th>\n",
       "      <th>Total Sightseeing Places Covered</th>\n",
       "      <th>Total days</th>\n",
       "      <th>...</th>\n",
       "      <th>Airline53</th>\n",
       "      <th>Airline54</th>\n",
       "      <th>Airline55</th>\n",
       "      <th>Airline56</th>\n",
       "      <th>Airline57</th>\n",
       "      <th>Airline58</th>\n",
       "      <th>Airline59</th>\n",
       "      <th>Airline60</th>\n",
       "      <th>Airline61</th>\n",
       "      <th>Airline62</th>\n",
       "    </tr>\n",
       "  </thead>\n",
       "  <tbody>\n",
       "    <tr>\n",
       "      <th>0</th>\n",
       "      <td>4.0</td>\n",
       "      <td>417.0</td>\n",
       "      <td>0.0</td>\n",
       "      <td>2</td>\n",
       "      <td>3</td>\n",
       "      <td>5.0</td>\n",
       "      <td>11509.0</td>\n",
       "      <td>4</td>\n",
       "      <td>-1</td>\n",
       "      <td>6</td>\n",
       "      <td>...</td>\n",
       "      <td>0</td>\n",
       "      <td>0</td>\n",
       "      <td>0</td>\n",
       "      <td>0</td>\n",
       "      <td>0</td>\n",
       "      <td>0</td>\n",
       "      <td>0</td>\n",
       "      <td>0</td>\n",
       "      <td>0</td>\n",
       "      <td>0</td>\n",
       "    </tr>\n",
       "    <tr>\n",
       "      <th>1</th>\n",
       "      <td>3.0</td>\n",
       "      <td>533.0</td>\n",
       "      <td>1.0</td>\n",
       "      <td>0</td>\n",
       "      <td>5</td>\n",
       "      <td>0.0</td>\n",
       "      <td>22485.5</td>\n",
       "      <td>3</td>\n",
       "      <td>7</td>\n",
       "      <td>4</td>\n",
       "      <td>...</td>\n",
       "      <td>0</td>\n",
       "      <td>0</td>\n",
       "      <td>0</td>\n",
       "      <td>0</td>\n",
       "      <td>0</td>\n",
       "      <td>0</td>\n",
       "      <td>0</td>\n",
       "      <td>0</td>\n",
       "      <td>0</td>\n",
       "      <td>0</td>\n",
       "    </tr>\n",
       "    <tr>\n",
       "      <th>2</th>\n",
       "      <td>2.0</td>\n",
       "      <td>549.0</td>\n",
       "      <td>1.0</td>\n",
       "      <td>0</td>\n",
       "      <td>4</td>\n",
       "      <td>0.0</td>\n",
       "      <td>12421.5</td>\n",
       "      <td>2</td>\n",
       "      <td>8</td>\n",
       "      <td>3</td>\n",
       "      <td>...</td>\n",
       "      <td>0</td>\n",
       "      <td>0</td>\n",
       "      <td>0</td>\n",
       "      <td>0</td>\n",
       "      <td>0</td>\n",
       "      <td>0</td>\n",
       "      <td>0</td>\n",
       "      <td>0</td>\n",
       "      <td>0</td>\n",
       "      <td>0</td>\n",
       "    </tr>\n",
       "    <tr>\n",
       "      <th>3</th>\n",
       "      <td>3.0</td>\n",
       "      <td>329.0</td>\n",
       "      <td>1.0</td>\n",
       "      <td>0</td>\n",
       "      <td>5</td>\n",
       "      <td>0.0</td>\n",
       "      <td>35967.0</td>\n",
       "      <td>4</td>\n",
       "      <td>9</td>\n",
       "      <td>6</td>\n",
       "      <td>...</td>\n",
       "      <td>0</td>\n",
       "      <td>0</td>\n",
       "      <td>0</td>\n",
       "      <td>0</td>\n",
       "      <td>0</td>\n",
       "      <td>0</td>\n",
       "      <td>0</td>\n",
       "      <td>0</td>\n",
       "      <td>0</td>\n",
       "      <td>0</td>\n",
       "    </tr>\n",
       "    <tr>\n",
       "      <th>4</th>\n",
       "      <td>3.0</td>\n",
       "      <td>443.0</td>\n",
       "      <td>1.0</td>\n",
       "      <td>0</td>\n",
       "      <td>5</td>\n",
       "      <td>0.0</td>\n",
       "      <td>25584.0</td>\n",
       "      <td>2</td>\n",
       "      <td>2</td>\n",
       "      <td>7</td>\n",
       "      <td>...</td>\n",
       "      <td>1</td>\n",
       "      <td>0</td>\n",
       "      <td>0</td>\n",
       "      <td>0</td>\n",
       "      <td>0</td>\n",
       "      <td>0</td>\n",
       "      <td>0</td>\n",
       "      <td>0</td>\n",
       "      <td>0</td>\n",
       "      <td>0</td>\n",
       "    </tr>\n",
       "  </tbody>\n",
       "</table>\n",
       "<p>5 rows × 4313 columns</p>\n",
       "</div>"
      ],
      "text/plain": [
       "   Package Type  Destination  Start City  Flight Stops  Meals  \\\n",
       "0           4.0        417.0         0.0             2      3   \n",
       "1           3.0        533.0         1.0             0      5   \n",
       "2           2.0        549.0         1.0             0      4   \n",
       "3           3.0        329.0         1.0             0      5   \n",
       "4           3.0        443.0         1.0             0      5   \n",
       "\n",
       "   Cancellation Rules  Per Person Price  Total Destinations Covered  \\\n",
       "0                 5.0           11509.0                           4   \n",
       "1                 0.0           22485.5                           3   \n",
       "2                 0.0           12421.5                           2   \n",
       "3                 0.0           35967.0                           4   \n",
       "4                 0.0           25584.0                           2   \n",
       "\n",
       "   Total Sightseeing Places Covered  Total days  ...  Airline53  Airline54  \\\n",
       "0                                -1           6  ...          0          0   \n",
       "1                                 7           4  ...          0          0   \n",
       "2                                 8           3  ...          0          0   \n",
       "3                                 9           6  ...          0          0   \n",
       "4                                 2           7  ...          1          0   \n",
       "\n",
       "   Airline55  Airline56  Airline57  Airline58  Airline59  Airline60  \\\n",
       "0          0          0          0          0          0          0   \n",
       "1          0          0          0          0          0          0   \n",
       "2          0          0          0          0          0          0   \n",
       "3          0          0          0          0          0          0   \n",
       "4          0          0          0          0          0          0   \n",
       "\n",
       "   Airline61  Airline62  \n",
       "0          0          0  \n",
       "1          0          0  \n",
       "2          0          0  \n",
       "3          0          0  \n",
       "4          0          0  \n",
       "\n",
       "[5 rows x 4313 columns]"
      ]
     },
     "execution_count": 61,
     "metadata": {},
     "output_type": "execute_result"
    }
   ],
   "source": [
    "df2.head()"
   ]
  },
  {
   "cell_type": "code",
   "execution_count": 63,
   "metadata": {
    "scrolled": true
   },
   "outputs": [
    {
     "data": {
      "text/plain": [
       "0.0    17574\n",
       "9.0     2616\n",
       "5.0      795\n",
       "4.0        7\n",
       "6.0        2\n",
       "2.0        2\n",
       "7.0        1\n",
       "1.0        1\n",
       "3.0        1\n",
       "8.0        1\n",
       "Name: Cancellation Rules, dtype: int64"
      ]
     },
     "execution_count": 63,
     "metadata": {},
     "output_type": "execute_result"
    }
   ],
   "source": [
    "df2['Cancellation Rules'].value_counts()"
   ]
  },
  {
   "cell_type": "code",
   "execution_count": 52,
   "metadata": {},
   "outputs": [
    {
     "data": {
      "text/plain": [
       "['Start City', 'Package Type', 'Cancellation Rules', 'Destination']"
      ]
     },
     "execution_count": 52,
     "metadata": {},
     "output_type": "execute_result"
    }
   ],
   "source": [
    "cat_feature"
   ]
  },
  {
   "cell_type": "code",
   "execution_count": 53,
   "metadata": {},
   "outputs": [
    {
     "data": {
      "text/plain": [
       "{'Mumbai', 'New Delhi'}"
      ]
     },
     "execution_count": 53,
     "metadata": {},
     "output_type": "execute_result"
    }
   ],
   "source": [
    "set(train['Start City'])"
   ]
  },
  {
   "cell_type": "code",
   "execution_count": 54,
   "metadata": {},
   "outputs": [
    {
     "data": {
      "text/plain": [
       "{'Budget', 'Deluxe', 'Luxury', 'Premium', 'Standard'}"
      ]
     },
     "execution_count": 54,
     "metadata": {},
     "output_type": "execute_result"
    }
   ],
   "source": [
    "set(train['Package Type'])"
   ]
  },
  {
   "cell_type": "code",
   "execution_count": 55,
   "metadata": {
    "scrolled": false
   },
   "outputs": [
    {
     "data": {
      "text/plain": [
       "{'Cancellation any time after making the 1st payment instalment till the 2nd payment date:The entire amount paid as 1st payment instalment (deposit) would be non-refundable.Cancellation after 2nd payment instalment and before 3rd or final payment date:The total amount that was due at the 2nd payment instalment as per your payment schedule would be non-refundable; anything that you have paid over and above this amount would be refundable.Cancellation after 3rd or final payment date:The full amount paid by you would be non-refundable.',\n",
       " 'GENERAL Please note that once your booking is confirmed, you will receive an e-mail as well as an SMS on your registered mobile number confirming your booking. However, if you would like to get in touch with us please call us on 0124-4859749. We are open from 8:00 am o?= 8:00 pm, seven days a week Please expect to receive your vouchers 72 hours before your departure date (subject to full payment of your package cost) Please note that these packages are customizable, which means that you will be able to make changes to the itinerary/activity if you so desire. The final payment will be calculated as per the activities reflecting on the website which will be outlined in the confirmatory e-mail sent to youPersonal expenses such as laundry, telephone calls, room service, alcoholic beverages, mini bar etc., are not included In case your package needs to be cancelled due to any natural calamity, weather conditions etc. MakeMyTrip shall strive to give you the maximum possible refund subject to the agreement made with our trade partners/vendorsIf payment is not made as per the schedule provided in the first booking confirmation e-mail, MakeMyTrip reserves the right to cancel the booking after attempting to get in touch with you. Refunds would be as per the package cancellation policyFLIGHTSThe passenger names in the booking form should be exactly as per passports. MakeMyTrip will not bear any liability for the name change fee, if incorrect names and ages have been added at the time of bookingPlease note that if your package includes a flight which is a low cost carrier (Air Asia, Scoot Airlines, Air Arabia, Jetstar, Fly Dubai, Thai AirAsia, Air India Express, Tiger Airways) then baggage will not be included in the package. Baggage can be added as per your requirement at an additional cost depending on the airlines and destination. Our Travel Expert will attempt to get in touch with you within 24-hours after the booking has been confirmed for baggage additionPlease ensure that baggage requirements are given to our Travel Expert latest by 5 days before the date of departureHOTEL Standard check-in time at the hotel is normally 2:00 pm and check-out is 11:00 am. An early check-in, or a late check-out is solely based on the discretion of the hotelIn case the selected hotel is unavailable for booking, an alternate arrangement will be offered to the customer in another hotel of a similar categoryCertain hotels abroad may ask for a security deposit during check-in, which is refundable at check-out subject to the hotelo?=s policy\\xa0\\xa0SIGHTSEEING ACTIVITIES/TRANSFERSPlease note that Day at Leisure essentially implies that no sightseeing activities have been included for that day Kindly be on time for your activities, tours and transfers. Most countries are quite strict about following a schedule',\n",
       " \"GENERAL Please note that once your booking is confirmed, you will receive an e-mail as well as an SMS on your registered mobile number confirming your booking. However, if you would like to get in touch with us please call us on 0124-4859749. We are open from 8:00 am – 8:00 pm, seven days a week Please expect to receive your vouchers 72 hours before your departure date (subject to full payment of your package cost) Please note that these packages are customizable, which means that you will be able to make changes to the itinerary/activity if you so desire. The final payment will be calculated as per the activities reflecting on the website which will be outlined in the confirmatory e-mail sent to youPersonal expenses such as laundry, telephone calls, room service, alcoholic beverages, mini bar etc., are not included In case your package needs to be cancelled due to any natural calamity, weather conditions etc. MakeMyTrip shall strive to give you the maximum possible refund subject to the agreement made with our trade partners/vendorsIf payment is not made as per the schedule provided in the first booking confirmation e-mail, MakeMyTrip reserves the right to cancel the booking after attempting to get in touch with you. Refunds would be as per the package cancellation policyFLIGHTSThe passenger names in the booking form should be exactly as per passports. MakeMyTrip will not bear any liability for the name change fee, if incorrect names and ages have been added at the time of bookingPlease note that if your package includes a flight which is a low cost carrier (Air Asia, Scoot Airlines, Air Arabia, Jetstar, Fly Dubai, Thai AirAsia, Air India Express, Tiger Airways) then baggage will not be included in the package. Baggage can be added as per your requirement at an additional cost depending on the airlines and destination. Our Travel Expert will attempt to get in touch with you within 24-hours after the booking has been confirmed for baggage additionPlease ensure that baggage requirements are given to our Travel Expert latest by 5 days before the date of departureHOTEL Standard check-in time at the hotel is normally 2:00 pm and check-out is 11:00 am. An early check-in, or a late check-out is solely based on the discretion of the hotelIn case the selected hotel is unavailable for booking, an alternate arrangement will be offered to the customer in another hotel of a similar categoryCertain hotels abroad may ask for a security deposit during check-in, which is refundable at check-out subject to the hotel’s policy\\xa0\\xa0SIGHTSEEING ACTIVITIES/TRANSFERSPlease note that 'Day at Leisure' essentially implies that no sightseeing activities have been included for that day Kindly be on time for your activities, tours and transfers. Most countries are quite strict about following a schedule\",\n",
       " 'If your flights involve a combination of different airlines, you may have to collect your luggage on arrival at the connecting hub and register it again while checking in for the onward journey to your destination.Booking rates are subject to change without prior notice.Pricing of the booking is based on the age of the passengers. Please make sure you enter the correct age of passengers at the time of booking. Passengers furnishing incorrect age details may incur penalty at the time of travelling.Airline seats and hotel rooms are subject to availability at the time of booking.In case of unavailability in the listed hotels, arrangement for an alternate accommodation will be made in a hotel of similar standard.A maximum of 3 adults are allowed in one room. The third occupant shall be provided a mattress/rollaway bed.The itinerary is fixed and cannot be modified. Transportation shall be provided as per the itinerary and will not be at disposal. All transfers and sightseeing shall be provided by an exclusive vehicle unless otherwise specified.Due to operational reasons, the routing of this tour may be amended. However, all mentioned services will remain unchanged.MMT reserves the right to modify the itinerary at any point, due to reasons including but not limited to: Force Majeure events, strikes, fairs, festivals, weather conditions, traffic problems, overbooking of hotels / flights, cancellation / re-routing of flights, closure of / entry restrictions at a place of visit, etc. While we will do our best to make suitable alternate arrangements, we would not be held liable for any refunds/compensation claims arising out of this.The booking price does not include: -Expenses of personal nature, such as laundry, telephone calls, room service, alcoholic beverages, mini bar charges, tips, portage, camera fees etc.-Any meals and services not specifically mentioned in the inclusions. -Any other items not mentioned under ?Inclusions? are not included in the cost of the booking.Cost of deviation and cost of extension of the validity on your ticket is not included.For queries regarding cancellations and refunds, please refer to our Cancellation Policy.Disputes, if any, shall be subject to the exclusive jurisdiction of the courts in New Delhi.',\n",
       " \"If your flights involve a combination of different airlines, you may have to collect your luggage on arrival at the connecting hub and register it again while checking in for the onward journey to your destination.Booking rates are subject to change without prior notice.Pricing of the booking is based on the age of the passengers. Please make sure you enter the correct age of passengers at the time of booking. Passengers furnishing incorrect age details may incur penalty at the time of travelling.Airline seats and hotel rooms are subject to availability at the time of booking.In case of unavailability in the listed hotels, arrangement for an alternate accommodation will be made in a hotel of similar standard.A maximum of 3 adults are allowed in one room. The third occupant shall be provided a mattress/rollaway bed.The itinerary is fixed and cannot be modified. Transportation shall be provided as per the itinerary and will not be at disposal. All transfers and sightseeing shall be provided by an exclusive vehicle unless otherwise specified.Due to operational reasons, the routing of this tour may be amended. However, all mentioned services will remain unchanged.MMT reserves the right to modify the itinerary at any point, due to reasons including but not limited to: Force Majeure events, strikes, fairs, festivals, weather conditions, traffic problems, overbooking of hotels / flights, cancellation / re-routing of flights, closure of / entry restrictions at a place of visit, etc. While we will do our best to make suitable alternate arrangements, we would not be held liable for any refunds/compensation claims arising out of this.The booking price does not include: -Expenses of personal nature, such as laundry, telephone calls, room service, alcoholic beverages, mini bar charges, tips, portage, camera fees etc.-Any meals and services not specifically mentioned in the inclusions. -Any other items not mentioned under ?Inclusions? are not included in the cost of the booking.Cost of deviation and cost of extension of the validity on your ticket is not included.For queries regarding cancellations and refunds, please refer to our Cancellation Policy.Disputes, if any, shall be subject to the exclusive jurisdiction of the courts in New Delhi.Package price does not include Gala dinner charges applicable on Christmas and New Year's Eve\",\n",
       " 'Not Available',\n",
       " \"Package price does not include Gala dinner charges applicable on Christmas and New Year's Eve\",\n",
       " 'Packages will be escorted by Local Representative of the Vendor on the day of Full or Half day tours as per itinerary.Vendor Representative are English speaking &\\xa0 Explain about the Tours in English Language Only. Package has the flexibility to add extra Nights before start of the Tour and at the end of the tour. Please contact MMT representative.Package has the flexibility to add extra Optional tours within the itinerary subject to time availability in each Package. Please contact MMT representative.Price of the Holiday Services are calculated per passenger on twin-sharing basis.The taxes mentioned are taxes as applicable on September 1st, 2017. In the event of increase in the rate of taxation, the differential amount will be payable by the customer. A surcharge may be applicable for certain departures.Service tax charges will apply, as applicable.Cost of deviation and cost of extension of the validity on your ticket is not included.Porter fees at hotels, airports and seaports is not included in the Holiday Services and has to be borne by the customer.Cost of expenses of personal nature such as, laundry, telephone calls, room service, alcoholic beverages, mini bar etc., are not included.Any other items not mentioned in the Inclusions list are not included in the cost of the Holiday Services.Prices are dynamic and based on offers running at the time of booking. MMT reserves the right to change prices at any time.In case the selected hotel is unavailable for booking, an alternate arrangement will be offered to the customer in a hotel of similar category.Due to operational reasons, the routing of this holiday may be amended. However, all mentioned services will remain unchanged.Pricing of the Holiday Services is based on the age of the passengers. Please make sure you enter it correctly at the time of booking. Furnishing wrong passenger age may incur penalty at a later stage.',\n",
       " \"Price of the booking is calculated for per passenger on a twin-sharing basis. Prices are dynamic and may be based on offers running at the time of booking. MMT reserves the right to change prices at any time.Pricing of the booking is based on the age of the passengers. Please make sure you enter the correct age of passengers at the time of booking. Passengers furnishing incorrect age details may incur penalty at the time of travelling.A surcharge may be applicable for certain departures. In case the selected hotel is unavailable for booking, an alternate arrangement will be offered to the customer in another hotel of a similar category.Due to operational reasons, the routing of this tour may be amended. However, all mentioned services will remain unchanged.Cost of deviation and cost of extension of the validity on your ticket is not included.Porter fee at hotels, airports and seaports is not included in the package and has to be borne by the customer.Cost of expenses of personal nature such as, laundry, telephone calls, room service, alcoholic beverages, mini bar etc., are not included.Any other items not mentioned under ?Inclusions? are not included in the cost of the booking.Package price does not include Gala dinner charges applicable on Christmas and New Year's Eve\",\n",
       " 'This cancellation policy is applicable for bookings made for Weekend Getaways through the MakeMyTrip platform   If the booking is made 15 days prior to the travel date (i.e. the date on which the customer is travelling):  When the customer has booked a weekend getaway 15 days (inclusive of the travel date) prior to the travel date, the customer is eligible to avail the benefit of this offer.At the time of making the payment while booking the package, the customer shall have the option of either paying in total or in instalments. If the customer chooses to make the payment in total and cancels the booking within 24 hours of making the payment, the customer shall be entitled to get the full refund under this offer. In case of any flight bookings, MakeMyTrip shall, in its sole discretion, refund partial booking amount to the customer. Full refund under the offer is not applicable on Air Asia, Scoot Airlines, Nok-Scoot and Tiger Australia.  If a customer chooses to make the payment in instalments and cancels the booking thereafter, MakeMyTrip shall provide the refund in the following manner:When the customer has made 1st instalment of the booking amount and the booking is cancelled within 24 hours of making the booking, MakeMyTrip shall refund the full amount paid in the 1st instalment. However, In case of any flight bookings, MakeMyTrip shall, in its sole discretion, refund partial booking amount to the customer. Full refund under the offer is not applicable on Air Asia, Scoot Airlines, Nok-Scoot & Tiger Australia.  When the customer has made 1st instalment of the booking amount and the booking is cancelled after 24 hours of making the booking but before making the 2nd instalment, the entire 1st instalment shall be non-refundable.  When the customer cancels the booking upon paying the 2nd instalment but before paying the 3rd instalment, the amount of 1st and 2nd instalment as paid by the customer shall be non-refundable. However, if the customer has paid an amount over and above the amount to be paid for the 1st and 2nd instalment, MakeMyTrip shall refund the said amount.  When the customer cancels the booking upon paying the 3rd instalment, the entire booking amount paid shall be non-refundable.  If the booking is made within 15 days from the travel date:   When the customer has made 1st instalment of the booking amount and the booking is cancelled before making the 2nd instalment, the entire 1st instalment shall be non-refundable.  When the customer cancels the booking upon paying the 2nd instalment but before paying the 3rd instalment, the amount of 1st and 2nd instalment as paid by the customer shall be non-refundable. However, if the customer has paid an amount over and above the amount to be paid for the 1st and 2nd instalment, MakeMyTrip shall refund the said amount.When the customer cancels the booking upon paying the 3rd instalment, the entire booking amount paid shall be non-refundable.'}"
      ]
     },
     "execution_count": 55,
     "metadata": {},
     "output_type": "execute_result"
    }
   ],
   "source": [
    "set(train['Cancellation Rules'])"
   ]
  },
  {
   "cell_type": "code",
   "execution_count": 56,
   "metadata": {},
   "outputs": [
    {
     "data": {
      "text/plain": [
       "{'Abu Dhabi',\n",
       " 'Abu Dhabi|Dubai',\n",
       " 'Agra',\n",
       " 'Agra|Bharatpur|Jaipur|Nawalgarh|Jodhpur|Jaisalmer|Jodhpur|Kumbalgarh|Udaipur|Ajmer|Pushkar',\n",
       " 'Agra|Gwalior|Orchha|Khajuraho',\n",
       " 'Agra|Jaipur',\n",
       " 'Agra|Jaipur|Jodhpur|Udaipur',\n",
       " 'Agra|Lucknow|Varanasi',\n",
       " 'Agra|Mathura',\n",
       " 'Agra|New Delhi|Shimla|Manali|Chandigarh',\n",
       " 'Ahmedabad|Jamnagar|Dwarka|Somnath|Ahmedabad|Udaipur',\n",
       " 'Ajmer|Jaipur',\n",
       " 'Ajmer|Pushkar',\n",
       " 'Allepey',\n",
       " 'Allepey|Kovalam and Poovar',\n",
       " 'Allepey|Munnar',\n",
       " 'Allepey|Munnar|Thekkady',\n",
       " 'Allepey|Thekkady',\n",
       " 'Allepey|Thekkady|Munnar',\n",
       " 'Allepey|Varkala|Kovalam',\n",
       " 'Alwar|Bharatpur',\n",
       " 'Amritsar',\n",
       " 'Amritsar|Dalhousie|Dharamshala',\n",
       " 'Amritsar|Dalhousie|Dharamshala|Chandigarh',\n",
       " 'Amritsar|Dalhousie|Dharamshala|Manali|Shimla|Chandigarh',\n",
       " 'Amritsar|Dharamshala|Dalhousie',\n",
       " 'Amritsar|Dharamshala|Dalhousie|Katra',\n",
       " 'Amritsar|Dharamshala|Katra',\n",
       " 'Amritsar|Manali|Shimla',\n",
       " 'Amritsar|Palampur',\n",
       " 'Amritsar|Shimla',\n",
       " 'Amritsar|Shimla|Manali',\n",
       " 'Anuradhapura|Sigiriya|Kandy|Nuwara Eliya|Yala|Galle|Bentota|Colombo',\n",
       " 'Anuradhapura|Trincomalee|Sigiriya|Kandy|Nuwara Eliya|Yala|Galle|Bentota|Colombo',\n",
       " 'Aurangabad|Shirdi',\n",
       " 'Bali',\n",
       " 'Bali|Jakarta',\n",
       " 'Bali|Kuala Lumpur',\n",
       " 'Bali|Singapore',\n",
       " 'Bali|Singapore|Kuala Lumpur',\n",
       " 'Bandipur',\n",
       " 'Bandipur|Ooty',\n",
       " 'Bandipur|Ooty|Kodaikanal',\n",
       " 'Bangalore',\n",
       " 'Bangalore|Coorg',\n",
       " 'Bangalore|Mysore|Coorg',\n",
       " 'Bangalore|Mysore|Coorg|Ooty',\n",
       " 'Bangalore|Mysore|Coorg|Ooty|Kodaikanal',\n",
       " 'Bangalore|Mysore|Ooty',\n",
       " 'Bangalore|Mysore|Ooty|Kodaikanal',\n",
       " 'Bangalore|Ooty',\n",
       " 'Bangalore|Ooty|Mysore',\n",
       " 'Bangkok',\n",
       " 'Bangkok|Phuket|Krabi town',\n",
       " 'Bentota|Colombo',\n",
       " 'Bentota|Kandy|Colombo',\n",
       " 'Bentota|Nuwara Eliya|Kandy',\n",
       " 'Bentota|Yala|Colombo',\n",
       " 'Bentota|Yala|Nuwara Eliya|Colombo',\n",
       " 'Bikaner|Jaisalmer|Jodhpur',\n",
       " 'Bikaner|Jaisalmer|Jodhpur|Udaipur|Pushkar|Jaipur',\n",
       " 'Chail',\n",
       " 'Chail|Shimla',\n",
       " 'Chandigarh|Chintpurni|Kangra|Dharamshala|Katra',\n",
       " 'Chandigarh|Dharamshala|Dalhousie|Chandigarh',\n",
       " 'Chandigarh|Manali',\n",
       " 'Chandigarh|Manali|Shimla',\n",
       " 'Chandigarh|Shimla|Chandigarh',\n",
       " 'Chandigarh|Shimla|Manali',\n",
       " 'Chandigarh|Shimla|Manali|Chandigarh',\n",
       " 'Chandigarh|Shimla|Manali|Parwanoo',\n",
       " 'Chennai',\n",
       " 'Chennai|Mahabalipuram',\n",
       " 'Chennai|Pondicherry|Tanjore|Madurai',\n",
       " 'Chennai|Tirupati|Mahabalipuram|Pondicherry|Tanjore|Rameshwaram|Madurai',\n",
       " 'Chikmangalur|Coorg',\n",
       " 'Chittorgarh|Mount Abu|Udaipur',\n",
       " 'Christchurch|Franz Josef|Queenstown|Rotorua|Auckland',\n",
       " 'Christchurch|Queenstown|Auckland',\n",
       " 'Cochin',\n",
       " 'Cochin|Allepey|Thekkady',\n",
       " 'Cochin|Kumarakom',\n",
       " 'Cochin|Kumarakom|Kovalam and Poovar',\n",
       " 'Cochin|Munnar',\n",
       " 'Cochin|Munnar|Allepey',\n",
       " 'Cochin|Munnar|Allepey|Cochin',\n",
       " 'Cochin|Munnar|Allepey|Kovalam and Poovar',\n",
       " 'Cochin|Munnar|Ooty',\n",
       " 'Cochin|Munnar|Thekkady',\n",
       " 'Cochin|Munnar|Thekkady|Allepey',\n",
       " 'Cochin|Munnar|Thekkady|Allepey|Cochin',\n",
       " 'Cochin|Munnar|Thekkady|Allepey|Kovalam and Poovar',\n",
       " 'Cochin|Munnar|Thekkady|Allepey|Kovalam|Poovar',\n",
       " 'Cochin|Munnar|Thekkady|Allepey|Kovalam|Poovar|Cochin',\n",
       " 'Cochin|Munnar|Thekkady|Allepey|Kovalam|Trivandrum',\n",
       " 'Cochin|Munnar|Thekkady|Allepey|Kumarakom',\n",
       " 'Cochin|Munnar|Thekkady|Kovalam and Poovar|Allepey',\n",
       " 'Cochin|Munnar|Thekkady|Kovalam and Poovar|Kanyakumari|Rameshwaram|Madurai',\n",
       " 'Cochin|Munnar|Thekkady|Kumarakom',\n",
       " 'Cochin|Munnar|Thekkady|Kumarakom|Allepey',\n",
       " 'Cochin|Munnar|Thekkady|Kumarakom|Kovalam and Poovar',\n",
       " 'Cochin|Thekkady|Allepey',\n",
       " 'Cochin|Thekkady|Allepey|Kovalam and Poovar',\n",
       " 'Colombo',\n",
       " 'Colombo|Bentota',\n",
       " 'Colombo|Dambulla|Kandy|Nuwara Eliya|Yala|Bentota',\n",
       " 'Colombo|Kandy|Bentota',\n",
       " 'Colombo|Kandy|Colombo',\n",
       " 'Coorg',\n",
       " 'Coorg|Bandipur|Mysore',\n",
       " 'Coorg|Kabini|Bangalore',\n",
       " 'Coorg|Kabini|Wayanad',\n",
       " 'Coorg|Mysore',\n",
       " 'Coorg|Mysore|Ooty',\n",
       " 'Coorg|Ooty',\n",
       " 'Coorg|Ooty|Bandipur',\n",
       " 'Coorg|Ooty|Kodaikanal',\n",
       " 'Coorg|Ooty|Mysore',\n",
       " 'Coorg|Wayanad',\n",
       " 'Coorg|Wayanad|Mysore|Bangalore',\n",
       " 'Copenhagen|Helsinki',\n",
       " 'Copenhagen|Moscow',\n",
       " 'Copenhagen|Oslo',\n",
       " 'Corbett',\n",
       " 'Corbett|Mussoorie',\n",
       " 'Corbett|Nainital',\n",
       " 'Corbett|Nainital|New Delhi',\n",
       " 'Corbett|Ranikhet',\n",
       " 'Corbett|Ranikhet|Nainital',\n",
       " 'Dalhousie',\n",
       " 'Dalhousie|Dharamshala',\n",
       " 'Dalhousie|Dharamshala|Amritsar',\n",
       " 'Dalhousie|Dharamshala|Manali',\n",
       " 'Dalhousie|Dharamshala|Manali|Chandigarh',\n",
       " 'Dalhousie|Dharamshala|Shimla',\n",
       " 'Dalhousie|Manali',\n",
       " 'Dalhousie|Manali|Chandigarh',\n",
       " 'Dambulla|Kandy|Bentota|Colombo',\n",
       " 'Dambulla|Kandy|Nuwara Eliya|Bentota|Colombo',\n",
       " 'Dambulla|Kandy|Nuwara Eliya|Yala|Bentota|Colombo',\n",
       " 'Dambulla|Kandy|Nuwara Eliya|Yala|Galle|Bentota|Colombo',\n",
       " 'Dambulla|Nuwara Eliya|Colombo',\n",
       " 'Dambulla|Trincomalee|Kandy|Nuwara Eliya',\n",
       " 'Darjeeling',\n",
       " 'Darjeeling|Gangtok',\n",
       " 'Darjeeling|Gangtok|Kalimpong',\n",
       " 'Darjeeling|Gangtok|Lachung|Gangtok',\n",
       " 'Darjeeling|Gangtok|Lachung|Gangtok|Kalimpong',\n",
       " 'Darjeeling|Gangtok|Lachung|Gangtok|Pelling|Kalimpong',\n",
       " 'Darjeeling|Kalimpong|Gangtok',\n",
       " 'Darjeeling|Kalimpong|Pelling|Gangtok',\n",
       " 'Darjeeling|Pelling|Gangtok',\n",
       " 'Darjeeling|Pelling|Gangtok|Kalimpong',\n",
       " 'Dharamshala',\n",
       " 'Dharamshala|Chintpurni|Chandigarh',\n",
       " 'Dharamshala|Dalhousie',\n",
       " 'Dharamshala|Dalhousie|Amritsar',\n",
       " 'Dharamshala|Dalhousie|Amritsar|Chandigarh',\n",
       " 'Dharamshala|Palampur',\n",
       " 'Dubai',\n",
       " 'Dubai|Abu Dhabi',\n",
       " 'Dubai|Ras Al Khaimah',\n",
       " 'Dubai|Sharjah',\n",
       " 'Galle|Bentota|Nuwara Eliya|Kandy',\n",
       " 'Gangtok',\n",
       " 'Gangtok|Darjeeling',\n",
       " 'Gangtok|Darjeeling|Kalimpong',\n",
       " 'Gangtok|Darjeeling|Siliguri',\n",
       " 'Gangtok|Kalimpong',\n",
       " 'Gangtok|Kalimpong|Darjeeling',\n",
       " 'Gangtok|Lachen|Lachung|Gangtok',\n",
       " 'Gangtok|Lachung|Gangtok',\n",
       " 'Gangtok|Lachung|Gangtok|Darjeeling',\n",
       " 'Gangtok|Lachung|Gangtok|Pelling',\n",
       " 'Gangtok|Lachung|Gangtok|Pelling|Darjeeling',\n",
       " 'Gangtok|Namchi|Pelling|Darjeeling',\n",
       " 'Gangtok|Pelling|Darjeeling',\n",
       " 'Gangtok|Pelling|Darjeeling|Kalimpong',\n",
       " 'Gangtok|Pelling|Kalimpong',\n",
       " 'Gangtok|Pelling|Namchi',\n",
       " 'Ganpatipule',\n",
       " 'Genting|Kuala Lumpur',\n",
       " 'Goa',\n",
       " 'Gokarna|Goa',\n",
       " 'Gulmarg|Pahalgam|Srinagar',\n",
       " 'Gulmarg|Srinagar',\n",
       " 'Guwahati',\n",
       " 'Guwahati|Cherrapunjee|Shillong',\n",
       " 'Guwahati|Kaziranga|Shillong',\n",
       " 'Guwahati|Shillong',\n",
       " 'Guwahati|Shillong|Cherrapunjee|Shillong|Kaziranga',\n",
       " 'Guwahati|Shillong|Guwahati',\n",
       " 'Guwahati|Shillong|Kaziranga',\n",
       " 'Haridwar',\n",
       " 'Haridwar|Mussoorie',\n",
       " 'Haridwar|Rishikesh',\n",
       " 'Haridwar|Rishikesh|Mussoorie',\n",
       " 'Haridwar|Rishikesh|Mussoorie|Corbett',\n",
       " 'Haridwar|Rishikesh|Mussoorie|Corbett|Nainital',\n",
       " 'Hassan|Hampi',\n",
       " 'Hong Kong|Singapore',\n",
       " 'Jaipur',\n",
       " 'Jaipur|Agra',\n",
       " 'Jaipur|Agra|New Delhi',\n",
       " 'Jaipur|Ajmer|Jodhpur|Mount Abu|Udaipur',\n",
       " 'Jaipur|Ajmer|Udaipur',\n",
       " 'Jaipur|Bikaner',\n",
       " 'Jaipur|Bikaner|Jaisalmer|Jodhpur',\n",
       " 'Jaipur|Bikaner|Jaisalmer|Jodhpur|Udaipur',\n",
       " 'Jaipur|Jaisalmer|Jodhpur',\n",
       " 'Jaipur|Jaisalmer|Udaipur',\n",
       " 'Jaipur|Jodhpur',\n",
       " 'Jaipur|Jodhpur|Jaisalmer',\n",
       " 'Jaipur|Jodhpur|Jaisalmer|Bikaner|Jaipur',\n",
       " 'Jaipur|Jodhpur|Jaisalmer|Jodhpur',\n",
       " 'Jaipur|Jodhpur|Jaisalmer|Jodhpur|Udaipur',\n",
       " 'Jaipur|Jodhpur|Jaisalmer|Udaipur',\n",
       " 'Jaipur|Jodhpur|Udaipur',\n",
       " 'Jaipur|Jodhpur|Udaipur|Mount Abu',\n",
       " 'Jaipur|Mandawa|Bikaner|Jaisalmer|Jodhpur',\n",
       " 'Jaipur|New Delhi',\n",
       " 'Jaipur|Pushkar',\n",
       " 'Jaipur|Pushkar|Jaipur',\n",
       " 'Jaipur|Pushkar|Jodhpur|Mount Abu|Udaipur',\n",
       " 'Jaipur|Pushkar|Jodhpur|Udaipur',\n",
       " 'Jaipur|Pushkar|Udaipur',\n",
       " 'Jaipur|Pushkar|Udaipur|Mount Abu|Ahmedabad|Dwarka|Somnath|Ahmedabad|Vadodara',\n",
       " 'Jaipur|Pushkar|Udaipur|Mount Abu|Jodhpur|Jaisalmer|Bikaner',\n",
       " 'Jaipur|Ranthambhore',\n",
       " 'Jaipur|Ranthambhore|Bundi|Pushkar',\n",
       " 'Jaipur|Ranthambhore|Jaipur',\n",
       " 'Jaipur|Ranthambhore|Udaipur',\n",
       " 'Jaipur|Udaipur',\n",
       " 'Jaipur|Udaipur|Mount Abu',\n",
       " 'Jaisalmer',\n",
       " 'Jaisalmer|Jodhpur',\n",
       " 'Jaisalmer|Jodhpur|Mount Abu|Udaipur|Pushkar|Jaipur',\n",
       " 'Jodhpur',\n",
       " 'Jodhpur|Jaisalmer',\n",
       " 'Jodhpur|Jaisalmer|Bikaner',\n",
       " 'Jodhpur|Udaipur',\n",
       " 'Kalimpong|Darjeeling',\n",
       " 'Kalimpong|Darjeeling|Pelling|Gangtok',\n",
       " 'Kalimpong|Pelling|Gangtok|Lachung|Gangtok|Darjeeling',\n",
       " 'Kandy',\n",
       " 'Kandy|Bentota',\n",
       " 'Kandy|Bentota|Colombo',\n",
       " 'Kandy|Bentota|Galle|Colombo',\n",
       " 'Kandy|Colombo',\n",
       " 'Kandy|Nuwara Eliya|Bentota|Colombo',\n",
       " 'Kandy|Nuwara Eliya|Colombo',\n",
       " 'Kandy|Nuwara Eliya|Galle|Colombo',\n",
       " 'Kandy|Nuwara Eliya|Yala|Bentota|Colombo',\n",
       " 'Kandy|Nuwara Eliya|Yala|Galle|Bentota|Colombo',\n",
       " 'Kanyakumari',\n",
       " 'Kanyakumari|Kovalam and Poovar',\n",
       " 'Kanyakumari|Rameshwaram|Madurai|Kodaikanal',\n",
       " 'Kanyakumari|Rameshwaram|Madurai|Tirupati',\n",
       " 'Kasauli',\n",
       " 'Kasauli|Dharamshala',\n",
       " 'Kasauli|Shimla',\n",
       " 'Kasol|Manali',\n",
       " 'Katra|Pahalgam|Gulmarg|Srinagar',\n",
       " 'Katra|Pahalgam|Srinagar|Gulmarg|Srinagar|Katra',\n",
       " 'Katra|Srinagar|Gulmarg|Pahalgam',\n",
       " 'Kaziranga|Guwahati',\n",
       " 'Kaziranga|Shillong',\n",
       " 'Kaziranga|Shillong|Guwahati',\n",
       " 'Kodaikanal',\n",
       " 'Kodaikanal|Madurai',\n",
       " 'Kodaikanal|Ooty',\n",
       " 'Kodaikanal|Ooty|Mysore',\n",
       " 'Kota Kinabalu|Kuala Lumpur',\n",
       " 'Kovalam and Poovar|Allepey|Munnar',\n",
       " 'Kovalam and Poovar|Allepey|Thekkady|Munnar',\n",
       " 'Kovalam and Poovar|Kanyakumari',\n",
       " 'Kovalam|Kanyakumari|Rameshwaram|Madurai',\n",
       " 'Krabi town|Phuket|Bangkok',\n",
       " 'Kuala Lumpur',\n",
       " 'Kuala Lumpur|Bali',\n",
       " 'Kuala Lumpur|Genting',\n",
       " 'Kuala Lumpur|Johor Bahru|Kuala Lumpur',\n",
       " 'Kuala Lumpur|Langkawi',\n",
       " 'Kuala Lumpur|Penang|Kuala Lumpur',\n",
       " 'Kuala Lumpur|Phuket',\n",
       " 'Kuala Lumpur|Singapore',\n",
       " 'Kullu|Manali',\n",
       " 'Kumarakom',\n",
       " 'Kumarakom|Thekkady',\n",
       " 'Kuta|Seminyak',\n",
       " 'Langkawi',\n",
       " 'Langkawi|Kuala Lumpur',\n",
       " 'Leh',\n",
       " 'Leh|Nubra Valley|Leh',\n",
       " 'Madurai|Kodaikanal',\n",
       " 'Madurai|Kodaikanal|Rameshwaram|Kanyakumari|Kovalam',\n",
       " 'Madurai|Rameshwaram|Kanyakumari',\n",
       " 'Madurai|Rameshwaram|Kanyakumari|Kovalam and Poovar',\n",
       " 'Madurai|Rameshwaram|Kanyakumari|Kovalam|Allepey|Munnar',\n",
       " 'Madurai|Rameshwaram|Kanyakumari|Kovalam|Allepey|Thekkady|Munnar',\n",
       " 'Madurai|Rameshwaram|Kanyakumari|Trivandrum',\n",
       " 'Madurai|Rameshwaram|Kumbakonam|Tanjore|Tiruchirapally',\n",
       " 'Madurai|Rameshwaram|Kumbakonam|Tanjore|Tiruchirapally|Kodaikanal',\n",
       " 'Mahabalipuram|Pondicherry',\n",
       " 'Manali',\n",
       " 'Manali|Amritsar',\n",
       " 'Manali|Chandigarh',\n",
       " 'Manali|Dharamshala|Dalhousie|Amritsar',\n",
       " 'Manali|Kasol',\n",
       " 'Manali|Shimla',\n",
       " 'Mathura|Jaipur',\n",
       " 'Mauritius',\n",
       " 'Mauritius|Praslin Island|Mahe Island',\n",
       " 'Moscow|Saint Petersburg',\n",
       " 'Mount Abu',\n",
       " 'Mount Abu|Udaipur',\n",
       " 'Mumbai|Alibagh|Ganpatipule|Lonavala And Khandala',\n",
       " 'Mumbai|Aurangabad|Nasik',\n",
       " 'Mumbai|Goa',\n",
       " 'Mumbai|Nasik|Saputara|Daman|Mumbai',\n",
       " 'Munnar',\n",
       " 'Munnar|Allepey',\n",
       " 'Munnar|Allepey|Kovalam',\n",
       " 'Munnar|Allepey|Kovalam and Poovar',\n",
       " 'Munnar|Allepey|Kovalam and Poovar|Kanyakumari',\n",
       " 'Munnar|Allepey|Kumarakom|Kovalam and Poovar',\n",
       " 'Munnar|Allepey|Varkala|Kovalam',\n",
       " 'Munnar|Kovalam|Allepey',\n",
       " 'Munnar|Kumarakom',\n",
       " 'Munnar|Kumarakom|Allepey|Kovalam and Poovar',\n",
       " 'Munnar|Kumarakom|Kovalam and Poovar',\n",
       " 'Munnar|Thekkady',\n",
       " 'Munnar|Thekkady|Allepey',\n",
       " 'Munnar|Thekkady|Allepey|Kovalam',\n",
       " 'Munnar|Thekkady|Allepey|Kovalam and Poovar',\n",
       " 'Munnar|Thekkady|Allepey|Kovalam and Poovar|Cochin',\n",
       " 'Munnar|Thekkady|Allepey|Kumarakom',\n",
       " 'Munnar|Thekkady|Allepey|Varkala|Kovalam',\n",
       " 'Munnar|Thekkady|Cochin',\n",
       " 'Munnar|Thekkady|Kovalam and Poovar',\n",
       " 'Munnar|Thekkady|Kovalam and Poovar|Allepey',\n",
       " 'Munnar|Thekkady|Kovalam|Allepey',\n",
       " 'Munnar|Thekkady|Kovalam|Poovar|Allepey',\n",
       " 'Munnar|Thekkady|Kumarakom',\n",
       " 'Munnar|Thekkady|Kumarakom|Allepey',\n",
       " 'Munnar|Thekkady|Kumarakom|Cochin',\n",
       " 'Munnar|Thekkady|Kumarakom|Kovalam and Poovar',\n",
       " 'Mussoorie',\n",
       " 'Mussoorie|Corbett',\n",
       " 'Mussoorie|Corbett|Nainital',\n",
       " 'Mussoorie|Corbett|Nainital|New Delhi',\n",
       " 'Mussoorie|Nainital',\n",
       " 'Mussoorie|Rishikesh',\n",
       " 'Mussoorie|Rishikesh|Haridwar',\n",
       " 'Mysore',\n",
       " 'Mysore|Bandipur|Coorg',\n",
       " 'Mysore|Bangalore',\n",
       " 'Mysore|Coorg',\n",
       " 'Mysore|Coorg|Bandipur|Ooty',\n",
       " 'Mysore|Coorg|Ooty',\n",
       " 'Mysore|Coorg|Ooty|Kodaikanal',\n",
       " 'Mysore|Ooty',\n",
       " 'Mysore|Ooty|Bangalore',\n",
       " 'Mysore|Ooty|Kodaikanal',\n",
       " 'Mysore|Wayanad',\n",
       " 'Mysore|Wayanad|Kabini',\n",
       " 'Mysore|Wayanad|Ooty',\n",
       " 'Nainital',\n",
       " 'Nainital|Almora',\n",
       " 'Nainital|Almora|Ranikhet',\n",
       " 'Nainital|Corbett',\n",
       " 'Nainital|Corbett|Mussoorie',\n",
       " 'Nainital|Corbett|New Delhi',\n",
       " 'Nainital|Haridwar|Mussoorie',\n",
       " 'Nainital|Kausani|Corbett',\n",
       " 'Nainital|Kausani|Ranikhet|Almora',\n",
       " 'Nainital|Kausani|Ranikhet|Corbett',\n",
       " 'Nainital|Kausani|Ranikhet|New Delhi',\n",
       " 'Nainital|Mussoorie',\n",
       " 'Nainital|Ranikhet',\n",
       " 'Nainital|Ranikhet|Corbett',\n",
       " 'Nainital|Ranikhet|Corbett|Mussoorie',\n",
       " 'Nainital|Ranikhet|New Delhi',\n",
       " 'Namchi|Pelling|Gangtok',\n",
       " 'Namchi|Pelling|Gangtok|Lachung|Gangtok',\n",
       " 'Nameri|Guwahati',\n",
       " 'Nasik',\n",
       " 'Nasik|Saputara',\n",
       " 'Nasik|Shirdi',\n",
       " 'Nasik|Shirdi|Aurangabad|Ahmednagar',\n",
       " 'Nasik|Shirdi|Aurangabad|Ahmednagar|Lonavala And Khandala',\n",
       " 'Nasik|Shirdi|Aurangabad|Nanded|Ahmedabad',\n",
       " 'Negombo|Anuradhapura|Sigiriya|Kandy|Nuwara Eliya|Yala|Galle|Bentota|Colombo',\n",
       " 'Negombo|Kandy|Colombo',\n",
       " 'Negombo|Kandy|Nuwara Eliya|Bentota|Colombo',\n",
       " 'Negombo|Kandy|Nuwara Eliya|Colombo',\n",
       " 'Negombo|Kandy|Nuwara Eliya|Yala|Bentota|Colombo',\n",
       " 'Negombo|Kandy|Nuwara Eliya|Yala|Galle|Bentota|Colombo',\n",
       " 'Negombo|Trincomalee|Kandy|Nuwara Eliya|Colombo',\n",
       " 'New Delhi|Agra',\n",
       " 'New Delhi|Agra|Bharatpur|Ranthambhore|Jaipur',\n",
       " 'New Delhi|Agra|Gwalior|Orchha|Khajuraho',\n",
       " 'New Delhi|Agra|Jaipur',\n",
       " 'New Delhi|Agra|Jaipur|New Delhi',\n",
       " 'New Delhi|Agra|Jaipur|New Delhi|Shimla|Manali|Chandigarh',\n",
       " 'New Delhi|Agra|Jaipur|Pushkar',\n",
       " 'New Delhi|Agra|Jaipur|Udaipur',\n",
       " 'New Delhi|Agra|Mathura',\n",
       " 'New Delhi|Agra|Ranthambhore|Jaipur',\n",
       " 'New Delhi|Corbett|Nainital|New Delhi',\n",
       " 'New Delhi|Haridwar|Rishikesh|Mussoorie',\n",
       " 'New Delhi|Jaipur',\n",
       " 'New Delhi|Jaipur|Pushkar',\n",
       " 'New Delhi|Manali|Chandigarh',\n",
       " 'New Delhi|Mussoorie|Corbett|New Delhi',\n",
       " 'New Delhi|Nainital|Corbett|Mussoorie',\n",
       " 'New Delhi|Shimla|Manali',\n",
       " 'New Delhi|Shimla|Manali|Chandigarh',\n",
       " 'Nuwara Eliya|Bentota|Colombo',\n",
       " 'Nuwara Eliya|Yala|Bentota|Colombo',\n",
       " 'Nuwara Eliya|Yala|Galle|Bentota|Colombo',\n",
       " 'Ooty',\n",
       " 'Ooty|Coorg',\n",
       " 'Ooty|Coorg|Bangalore',\n",
       " 'Ooty|Kodaikanal',\n",
       " 'Ooty|Kodaikanal|Munnar',\n",
       " 'Ooty|Kodaikanal|Munnar|Cochin',\n",
       " 'Ooty|Kodaikanal|Munnar|Thekkady|Kumarakom',\n",
       " 'Ooty|Munnar|Thekkady|Allepey',\n",
       " 'Ooty|Mysore',\n",
       " 'Ooty|Wayanad',\n",
       " 'Pahalgam|Gulmarg|Srinagar',\n",
       " 'Pahalgam|Srinagar',\n",
       " 'Paris',\n",
       " 'Parwanoo|Shimla',\n",
       " 'Parwanoo|Shimla|Chail',\n",
       " 'Parwanoo|Shimla|Chail|Kasauli',\n",
       " 'Parwanoo|Shimla|Manali',\n",
       " 'Patnitop|Pahalgam|Gulmarg|Srinagar',\n",
       " 'Patnitop|Pahalgam|Gulmarg|Srinagar|Sonmarg',\n",
       " 'Patnitop|Srinagar|Gulmarg|Pahalgam|Jammu',\n",
       " 'Patnitop|Srinagar|Gulmarg|Pahalgam|Katra',\n",
       " 'Pattaya',\n",
       " 'Pattaya|Bangkok',\n",
       " 'Pattaya|Bangkok|Phuket',\n",
       " 'Pelling',\n",
       " 'Pelling|Darjeeling',\n",
       " 'Pelling|Gangtok',\n",
       " 'Pelling|Gangtok|Darjeeling',\n",
       " 'Pelling|Gangtok|Lachung|Gangtok',\n",
       " 'Penang|Kuala Lumpur',\n",
       " 'Phuentsholing|Thimpu|Punakha|Paro|Phuentsholing',\n",
       " 'Phuket|Bangkok',\n",
       " 'Phuket|Krabi town|Bangkok',\n",
       " 'Phuket|Krabi town|Pattaya|Bangkok',\n",
       " 'Phuket|Singapore',\n",
       " 'Pondicherry',\n",
       " 'Pondicherry|Mahabalipuram',\n",
       " 'Port Blair',\n",
       " 'Port Blair|Havelock|Niel Island|Port Blair',\n",
       " 'Port Blair|Havelock|Port Blair',\n",
       " 'Prague',\n",
       " 'Pushkar|Jaipur',\n",
       " 'Pushkar|Jodhpur|Mount Abu|Udaipur',\n",
       " 'Queenstown',\n",
       " 'Rameshwaram|Madurai',\n",
       " 'Ranikhet|Almora|Kausani|Corbett',\n",
       " 'Ranthambhore',\n",
       " 'Ranthambhore|Jaipur',\n",
       " 'Rishikesh|Haridwar',\n",
       " 'Rishikesh|Joshimath|Haridwar',\n",
       " 'Rishikesh|Mussoorie',\n",
       " 'Sharjah',\n",
       " 'Sharjah|Dubai',\n",
       " 'Shillong',\n",
       " 'Shillong|Cherrapunjee',\n",
       " 'Shillong|Cherrapunjee|Shillong',\n",
       " 'Shillong|Guwahati',\n",
       " 'Shillong|Kaziranga',\n",
       " 'Shillong|Kaziranga|Guwahati',\n",
       " 'Shillong|Kaziranga|Nameri|Guwahati',\n",
       " 'Shimla',\n",
       " 'Shimla|Chail',\n",
       " 'Shimla|Chandigarh',\n",
       " 'Shimla|Kasauli',\n",
       " 'Shimla|Kullu|Manali',\n",
       " 'Shimla|Kullu|Manali|Chandigarh',\n",
       " 'Shimla|Manali',\n",
       " 'Shimla|Manali|Amritsar',\n",
       " 'Shimla|Manali|Chandigarh',\n",
       " 'Shimla|Manali|Chandigarh|New Delhi',\n",
       " 'Shimla|Manali|Dalhousie|Amritsar',\n",
       " 'Shimla|Manali|Dalhousie|Amritsar|New Delhi',\n",
       " 'Shimla|Manali|Dalhousie|Chandigarh',\n",
       " 'Shimla|Manali|Dharamshala',\n",
       " 'Shimla|Manali|Dharamshala|Amritsar',\n",
       " 'Shimla|Manali|Dharamshala|Chandigarh',\n",
       " 'Shimla|Manali|Dharamshala|Dalhousie',\n",
       " 'Shimla|Manali|Dharamshala|Dalhousie|Amritsar',\n",
       " 'Shimla|Manali|Dharamshala|Dalhousie|Chandigarh',\n",
       " 'Shimla|Manali|New Delhi',\n",
       " 'Shirdi',\n",
       " 'Shirdi|Aurangabad',\n",
       " 'Shirdi|Nasik',\n",
       " 'Sigiriya|Kandy|Bentota|Colombo',\n",
       " 'Sigiriya|Kandy|Galle|Bentota|Colombo',\n",
       " 'Sigiriya|Kandy|Nuwara Eliya|Bentota|Colombo',\n",
       " 'Sigiriya|Kandy|Nuwara Eliya|Colombo',\n",
       " 'Sigiriya|Kandy|Nuwara Eliya|Yala|Galle|Bentota|Colombo',\n",
       " 'Sigiriya|Trincomalee|Kandy|Colombo',\n",
       " 'Sigiriya|Trincomalee|Kandy|Colombo|Negombo',\n",
       " 'Siliguri|Darjeeling|Gangtok',\n",
       " 'Siliguri|Gangtok|Kalimpong|Darjeeling',\n",
       " 'Singapore',\n",
       " 'Singapore|Auckland|Queenstown',\n",
       " 'Singapore|Auckland|Queenstown|Christchurch',\n",
       " 'Singapore|Auckland|Rotorua|Queenstown|Christchurch',\n",
       " 'Singapore|Bali',\n",
       " 'Singapore|Batam|Singapore',\n",
       " 'Singapore|Bintan Island|Singapore',\n",
       " 'Singapore|Kuala Lumpur',\n",
       " 'Singapore|Melbourne|Gold Coast|Cairns|Sydney',\n",
       " 'Singapore|Melbourne|Gold Coast|Sydney',\n",
       " 'Singapore|Phuket',\n",
       " 'Singapore|Singapore Cruise',\n",
       " 'Singapore|Singapore Cruise|Singapore',\n",
       " 'Srinagar',\n",
       " 'Srinagar|Gulmarg',\n",
       " 'Srinagar|Gulmarg|Pahalgam|Katra',\n",
       " 'Srinagar|Gulmarg|Pahalgam|Srinagar',\n",
       " 'Srinagar|Gulmarg|Pahalgam|Srinagar|Katra',\n",
       " 'Srinagar|Gulmarg|Srinagar',\n",
       " 'Srinagar|Pahalgam|Gulmarg|Srinagar',\n",
       " 'Srinagar|Pahalgam|Srinagar',\n",
       " 'Srinagar|Pahalgam|Srinagar|Gulmarg',\n",
       " 'Tanjore|Kumbakonam|Tiruchirapally',\n",
       " 'Thekkady|Allepey',\n",
       " 'Thekkady|Allepey|Kovalam|Poovar',\n",
       " 'Thekkady|Cochin',\n",
       " 'Thimpu|Paro',\n",
       " 'Thimpu|Punakha|Paro',\n",
       " 'Tiruchirapally|Tanjore|Kumbakonam',\n",
       " 'Tirupati',\n",
       " 'Tirupati|Chennai',\n",
       " 'Tirupati|Kanchipuram|Madurai|Rameshwaram|Kanyakumari',\n",
       " 'Tirupati|Mahabalipuram',\n",
       " 'Tirupati|Pondicherry',\n",
       " 'Tirupati|Pondicherry|Madurai|Rameshwaram|Kanyakumari',\n",
       " 'Udaipur',\n",
       " 'Udaipur|Chittorgarh',\n",
       " 'Udaipur|Jaipur',\n",
       " 'Udaipur|Jodhpur',\n",
       " 'Udaipur|Jodhpur|Jaisalmer',\n",
       " 'Udaipur|Jodhpur|Jaisalmer|Bikaner|Jaipur',\n",
       " 'Udaipur|Kishangarh|Jaipur|Mandawa',\n",
       " 'Udaipur|Kumbalgarh',\n",
       " 'Udaipur|Kumbalgarh|Chittorgarh|Udaipur',\n",
       " 'Udaipur|Kumbalgarh|Mount Abu',\n",
       " 'Udaipur|Kumbalgarh|Udaipur',\n",
       " 'Udaipur|Mount Abu',\n",
       " 'Udaipur|Pali',\n",
       " 'Udaipur|Ranakpur|Chittorgarh',\n",
       " 'Varkala|Kovalam',\n",
       " 'Wayanad',\n",
       " 'Yala|Colombo'}"
      ]
     },
     "execution_count": 56,
     "metadata": {},
     "output_type": "execute_result"
    }
   ],
   "source": [
    "set(train['Destination'])"
   ]
  },
  {
   "cell_type": "code",
   "execution_count": 58,
   "metadata": {
    "scrolled": true
   },
   "outputs": [
    {
     "name": "stdout",
     "output_type": "stream",
     "text": [
      "Index(['Package Type', 'Destination', 'Start City', 'Flight Stops', 'Meals',\n",
      "       'Cancellation Rules', 'Total Destinations Covered',\n",
      "       'Total Sightseeing Places Covered', 'Total days', 'Avg Rating',\n",
      "       ...\n",
      "       'Airline53', 'Airline54', 'Airline55', 'Airline56', 'Airline57',\n",
      "       'Airline58', 'Airline59', 'Airline60', 'Airline61', 'Airline62'],\n",
      "      dtype='object', length=4312)\n"
     ]
    }
   ],
   "source": [
    "print(test.columns)"
   ]
  },
  {
   "cell_type": "code",
   "execution_count": 64,
   "metadata": {},
   "outputs": [
    {
     "data": {
      "image/png": "[encoded data removed]",
      "text/plain": [
       "<Figure size 432x288 with 1 Axes>"
      ]
     },
     "metadata": {
      "needs_background": "light"
     },
     "output_type": "display_data"
    }
   ],
   "source": [
    "%matplotlib inline\n",
    "sns.kdeplot(data=sub['Per Person Price'],shade=True)\n",
    "plt.title('Price Distribution')\n",
    "plt.show()"
   ]
  },
  {
   "cell_type": "code",
   "execution_count": 38,
   "metadata": {},
   "outputs": [],
   "source": [
    "import pickle\n",
    "# open a file, where you ant to store the data\n",
    "file = open(r'D:\\Downloads\\Workkation Price Prediction\\Participant_Data_WPPH\\Flask Deployment\\light_gradient_boosting_model.pkl', 'wb')\n",
    "\n",
    "# dump information to that file\n",
    "pickle.dump(model, file)"
   ]
  },
  {
   "cell_type": "code",
   "execution_count": 40,
   "metadata": {},
   "outputs": [],
   "source": [
    "modelss = pickle.load(open(r'D:\\Downloads\\Workkation Price Prediction\\Participant_Data_WPPH\\Flask Deployment\\light_gradient_boosting_model.pkl','rb'))"
   ]
  },
  {
   "cell_type": "code",
   "execution_count": 42,
   "metadata": {
    "scrolled": false
   },
   "outputs": [
    {
     "data": {
      "text/plain": [
       "array([19481.6516769 , 11861.47360919,  5348.7832591 , ...,\n",
       "       16370.14232078, 21154.42660642,  9391.53154676])"
      ]
     },
     "execution_count": 42,
     "metadata": {},
     "output_type": "execute_result"
    }
   ],
   "source": [
    "np.exp(modelss.predict(test))"
   ]
  },
  {
   "cell_type": "code",
   "execution_count": 64,
   "metadata": {},
   "outputs": [],
   "source": [
    "test.to_csv(r\"D:\\Downloads\\Workkation Price Prediction\\Participant_Data_WPPH\\Flask Deployment\\tested.csv\",index=False)"
   ]
  },
  {
   "cell_type": "code",
   "execution_count": null,
   "metadata": {},
   "outputs": [],
   "source": []
  },
  {
   "cell_type": "code",
   "execution_count": null,
   "metadata": {},
   "outputs": [],
   "source": []
  },
  {
   "cell_type": "code",
   "execution_count": null,
   "metadata": {},
   "outputs": [],
   "source": []
  },
  {
   "cell_type": "code",
   "execution_count": null,
   "metadata": {},
   "outputs": [],
   "source": []
  },
  {
   "cell_type": "code",
   "execution_count": null,
   "metadata": {},
   "outputs": [],
   "source": []
  },
  {
   "cell_type": "code",
   "execution_count": null,
   "metadata": {},
   "outputs": [],
   "source": []
  },
  {
   "cell_type": "code",
   "execution_count": null,
   "metadata": {},
   "outputs": [],
   "source": []
  },
  {
   "cell_type": "code",
   "execution_count": null,
   "metadata": {},
   "outputs": [],
   "source": []
  },
  {
   "cell_type": "code",
   "execution_count": null,
   "metadata": {},
   "outputs": [],
   "source": []
  },
  {
   "cell_type": "code",
   "execution_count": null,
   "metadata": {},
   "outputs": [],
   "source": []
  },
  {
   "cell_type": "code",
   "execution_count": null,
   "metadata": {},
   "outputs": [],
   "source": []
  },
  {
   "cell_type": "code",
   "execution_count": null,
   "metadata": {},
   "outputs": [],
   "source": []
  },
  {
   "cell_type": "code",
   "execution_count": null,
   "metadata": {},
   "outputs": [],
   "source": []
  },
  {
   "cell_type": "code",
   "execution_count": null,
   "metadata": {},
   "outputs": [],
   "source": []
  },
  {
   "cell_type": "code",
   "execution_count": null,
   "metadata": {},
   "outputs": [],
   "source": []
  }
 ],
 "metadata": {
  "kernelspec": {
   "display_name": "Python 3",
   "language": "python",
   "name": "python3"
  },
  "language_info": {
   "codemirror_mode": {
    "name": "ipython",
    "version": 3
   },
   "file_extension": ".py",
   "mimetype": "text/x-python",
   "name": "python",
   "nbconvert_exporter": "python",
   "pygments_lexer": "ipython3",
   "version": "3.8.3"
  }
 },
 "nbformat": 4,
 "nbformat_minor": 4
}
